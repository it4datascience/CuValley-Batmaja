{
 "cells": [
  {
   "cell_type": "markdown",
   "id": "288abf77",
   "metadata": {
    "pycharm": {
     "name": "#%% md\n"
    }
   },
   "source": [
    "# 1. Import libraries"
   ]
  },
  {
   "cell_type": "code",
   "execution_count": 1,
   "id": "a8572b40",
   "metadata": {
    "pycharm": {
     "name": "#%%\n"
    }
   },
   "outputs": [],
   "source": [
    "# data manipulation\n",
    "import pandas as pd\n",
    "\n",
    "import warnings\n",
    "warnings.filterwarnings('ignore')"
   ]
  },
  {
   "cell_type": "markdown",
   "id": "406a6663",
   "metadata": {
    "pycharm": {
     "name": "#%% md\n"
    }
   },
   "source": [
    "# 2. Load data"
   ]
  },
  {
   "cell_type": "code",
   "execution_count": 2,
   "id": "10bd7195",
   "metadata": {
    "pycharm": {
     "name": "#%%\n"
    }
   },
   "outputs": [
    {
     "data": {
      "text/html": [
       "<div>\n",
       "<style scoped>\n",
       "    .dataframe tbody tr th:only-of-type {\n",
       "        vertical-align: middle;\n",
       "    }\n",
       "\n",
       "    .dataframe tbody tr th {\n",
       "        vertical-align: top;\n",
       "    }\n",
       "\n",
       "    .dataframe thead th {\n",
       "        text-align: right;\n",
       "    }\n",
       "</style>\n",
       "<table border=\"1\" class=\"dataframe\">\n",
       "  <thead>\n",
       "    <tr style=\"text-align: right;\">\n",
       "      <th></th>\n",
       "      <th>Data</th>\n",
       "      <th>GŁOGÓW (151160060) Stan wody [cm]</th>\n",
       "      <th>RACIBÓRZ-MIEDONIA (150180060) Stan wody [cm]</th>\n",
       "      <th>BARDO ŚLĄSKIE (250160410) Suma opadów [mm]</th>\n",
       "      <th>BIERUTÓW (251170270) Suma opadów [mm]</th>\n",
       "      <th>BOLESŁAWÓW (250160610) Suma opadów [mm]</th>\n",
       "      <th>BOLKÓW (250160030) Suma opadów [mm]</th>\n",
       "      <th>BORÓW (250160070) Suma opadów [mm]</th>\n",
       "      <th>BRZEG (250170050) Suma opadów [mm]</th>\n",
       "      <th>BRZEG DOLNY (251160230) Suma opadów [mm]</th>\n",
       "      <th>CHWAŁKOWICE (251160170) Suma opadów [mm]</th>\n",
       "      <th>GŁOGÓW (151160060) Suma opadów [mm]</th>\n",
       "      <th>RACIBÓRZ-MIEDONIA (150180060) Suma opadów [mm]</th>\n",
       "    </tr>\n",
       "  </thead>\n",
       "  <tbody>\n",
       "    <tr>\n",
       "      <th>0</th>\n",
       "      <td>2011-01-01</td>\n",
       "      <td>199.0</td>\n",
       "      <td>118.0</td>\n",
       "      <td>0.2</td>\n",
       "      <td>0.5</td>\n",
       "      <td>0.5</td>\n",
       "      <td>0.7</td>\n",
       "      <td>0.2</td>\n",
       "      <td>0.05</td>\n",
       "      <td>0.8</td>\n",
       "      <td>0.8</td>\n",
       "      <td>0.2</td>\n",
       "      <td>0.5</td>\n",
       "    </tr>\n",
       "    <tr>\n",
       "      <th>1</th>\n",
       "      <td>2011-01-02</td>\n",
       "      <td>199.0</td>\n",
       "      <td>118.0</td>\n",
       "      <td>0.2</td>\n",
       "      <td>0.5</td>\n",
       "      <td>0.5</td>\n",
       "      <td>0.7</td>\n",
       "      <td>0.2</td>\n",
       "      <td>0.05</td>\n",
       "      <td>0.8</td>\n",
       "      <td>0.8</td>\n",
       "      <td>0.2</td>\n",
       "      <td>0.5</td>\n",
       "    </tr>\n",
       "    <tr>\n",
       "      <th>2</th>\n",
       "      <td>2011-01-03</td>\n",
       "      <td>199.0</td>\n",
       "      <td>118.0</td>\n",
       "      <td>0.2</td>\n",
       "      <td>0.5</td>\n",
       "      <td>0.5</td>\n",
       "      <td>0.7</td>\n",
       "      <td>0.2</td>\n",
       "      <td>0.05</td>\n",
       "      <td>0.8</td>\n",
       "      <td>0.8</td>\n",
       "      <td>0.2</td>\n",
       "      <td>0.5</td>\n",
       "    </tr>\n",
       "    <tr>\n",
       "      <th>3</th>\n",
       "      <td>2011-01-04</td>\n",
       "      <td>199.0</td>\n",
       "      <td>118.0</td>\n",
       "      <td>0.2</td>\n",
       "      <td>0.5</td>\n",
       "      <td>0.5</td>\n",
       "      <td>0.7</td>\n",
       "      <td>0.2</td>\n",
       "      <td>0.05</td>\n",
       "      <td>0.8</td>\n",
       "      <td>0.8</td>\n",
       "      <td>0.2</td>\n",
       "      <td>0.5</td>\n",
       "    </tr>\n",
       "    <tr>\n",
       "      <th>4</th>\n",
       "      <td>2011-01-05</td>\n",
       "      <td>199.0</td>\n",
       "      <td>118.0</td>\n",
       "      <td>0.2</td>\n",
       "      <td>0.5</td>\n",
       "      <td>0.5</td>\n",
       "      <td>0.7</td>\n",
       "      <td>0.2</td>\n",
       "      <td>0.05</td>\n",
       "      <td>0.8</td>\n",
       "      <td>0.8</td>\n",
       "      <td>0.2</td>\n",
       "      <td>0.5</td>\n",
       "    </tr>\n",
       "    <tr>\n",
       "      <th>...</th>\n",
       "      <td>...</td>\n",
       "      <td>...</td>\n",
       "      <td>...</td>\n",
       "      <td>...</td>\n",
       "      <td>...</td>\n",
       "      <td>...</td>\n",
       "      <td>...</td>\n",
       "      <td>...</td>\n",
       "      <td>...</td>\n",
       "      <td>...</td>\n",
       "      <td>...</td>\n",
       "      <td>...</td>\n",
       "      <td>...</td>\n",
       "    </tr>\n",
       "    <tr>\n",
       "      <th>4398</th>\n",
       "      <td>2023-01-16</td>\n",
       "      <td>203.0</td>\n",
       "      <td>114.0</td>\n",
       "      <td>3.8</td>\n",
       "      <td>6.8</td>\n",
       "      <td>2.0</td>\n",
       "      <td>4.7</td>\n",
       "      <td>4.8</td>\n",
       "      <td>1.70</td>\n",
       "      <td>5.1</td>\n",
       "      <td>5.2</td>\n",
       "      <td>3.8</td>\n",
       "      <td>2.0</td>\n",
       "    </tr>\n",
       "    <tr>\n",
       "      <th>4399</th>\n",
       "      <td>2023-01-17</td>\n",
       "      <td>203.0</td>\n",
       "      <td>114.0</td>\n",
       "      <td>3.8</td>\n",
       "      <td>6.8</td>\n",
       "      <td>2.0</td>\n",
       "      <td>4.7</td>\n",
       "      <td>4.8</td>\n",
       "      <td>1.70</td>\n",
       "      <td>5.1</td>\n",
       "      <td>5.2</td>\n",
       "      <td>3.8</td>\n",
       "      <td>2.0</td>\n",
       "    </tr>\n",
       "    <tr>\n",
       "      <th>4400</th>\n",
       "      <td>2023-01-18</td>\n",
       "      <td>203.0</td>\n",
       "      <td>114.0</td>\n",
       "      <td>3.8</td>\n",
       "      <td>6.8</td>\n",
       "      <td>2.0</td>\n",
       "      <td>4.7</td>\n",
       "      <td>4.8</td>\n",
       "      <td>1.70</td>\n",
       "      <td>5.1</td>\n",
       "      <td>5.2</td>\n",
       "      <td>3.8</td>\n",
       "      <td>2.0</td>\n",
       "    </tr>\n",
       "    <tr>\n",
       "      <th>4401</th>\n",
       "      <td>2023-01-19</td>\n",
       "      <td>203.0</td>\n",
       "      <td>114.0</td>\n",
       "      <td>3.8</td>\n",
       "      <td>6.8</td>\n",
       "      <td>2.0</td>\n",
       "      <td>4.7</td>\n",
       "      <td>4.8</td>\n",
       "      <td>1.70</td>\n",
       "      <td>5.1</td>\n",
       "      <td>5.2</td>\n",
       "      <td>3.8</td>\n",
       "      <td>2.0</td>\n",
       "    </tr>\n",
       "    <tr>\n",
       "      <th>4402</th>\n",
       "      <td>2023-01-20</td>\n",
       "      <td>203.0</td>\n",
       "      <td>114.0</td>\n",
       "      <td>3.8</td>\n",
       "      <td>6.8</td>\n",
       "      <td>2.0</td>\n",
       "      <td>4.7</td>\n",
       "      <td>4.8</td>\n",
       "      <td>1.70</td>\n",
       "      <td>5.1</td>\n",
       "      <td>5.2</td>\n",
       "      <td>3.8</td>\n",
       "      <td>2.0</td>\n",
       "    </tr>\n",
       "  </tbody>\n",
       "</table>\n",
       "<p>4403 rows × 13 columns</p>\n",
       "</div>"
      ],
      "text/plain": [
       "           Data  GŁOGÓW (151160060) Stan wody [cm]  \\\n",
       "0    2011-01-01                              199.0   \n",
       "1    2011-01-02                              199.0   \n",
       "2    2011-01-03                              199.0   \n",
       "3    2011-01-04                              199.0   \n",
       "4    2011-01-05                              199.0   \n",
       "...         ...                                ...   \n",
       "4398 2023-01-16                              203.0   \n",
       "4399 2023-01-17                              203.0   \n",
       "4400 2023-01-18                              203.0   \n",
       "4401 2023-01-19                              203.0   \n",
       "4402 2023-01-20                              203.0   \n",
       "\n",
       "      RACIBÓRZ-MIEDONIA (150180060) Stan wody [cm]  \\\n",
       "0                                            118.0   \n",
       "1                                            118.0   \n",
       "2                                            118.0   \n",
       "3                                            118.0   \n",
       "4                                            118.0   \n",
       "...                                            ...   \n",
       "4398                                         114.0   \n",
       "4399                                         114.0   \n",
       "4400                                         114.0   \n",
       "4401                                         114.0   \n",
       "4402                                         114.0   \n",
       "\n",
       "      BARDO ŚLĄSKIE (250160410) Suma opadów [mm]  \\\n",
       "0                                            0.2   \n",
       "1                                            0.2   \n",
       "2                                            0.2   \n",
       "3                                            0.2   \n",
       "4                                            0.2   \n",
       "...                                          ...   \n",
       "4398                                         3.8   \n",
       "4399                                         3.8   \n",
       "4400                                         3.8   \n",
       "4401                                         3.8   \n",
       "4402                                         3.8   \n",
       "\n",
       "      BIERUTÓW (251170270) Suma opadów [mm]  \\\n",
       "0                                       0.5   \n",
       "1                                       0.5   \n",
       "2                                       0.5   \n",
       "3                                       0.5   \n",
       "4                                       0.5   \n",
       "...                                     ...   \n",
       "4398                                    6.8   \n",
       "4399                                    6.8   \n",
       "4400                                    6.8   \n",
       "4401                                    6.8   \n",
       "4402                                    6.8   \n",
       "\n",
       "      BOLESŁAWÓW (250160610) Suma opadów [mm]  \\\n",
       "0                                         0.5   \n",
       "1                                         0.5   \n",
       "2                                         0.5   \n",
       "3                                         0.5   \n",
       "4                                         0.5   \n",
       "...                                       ...   \n",
       "4398                                      2.0   \n",
       "4399                                      2.0   \n",
       "4400                                      2.0   \n",
       "4401                                      2.0   \n",
       "4402                                      2.0   \n",
       "\n",
       "      BOLKÓW (250160030) Suma opadów [mm]  BORÓW (250160070) Suma opadów [mm]  \\\n",
       "0                                     0.7                                 0.2   \n",
       "1                                     0.7                                 0.2   \n",
       "2                                     0.7                                 0.2   \n",
       "3                                     0.7                                 0.2   \n",
       "4                                     0.7                                 0.2   \n",
       "...                                   ...                                 ...   \n",
       "4398                                  4.7                                 4.8   \n",
       "4399                                  4.7                                 4.8   \n",
       "4400                                  4.7                                 4.8   \n",
       "4401                                  4.7                                 4.8   \n",
       "4402                                  4.7                                 4.8   \n",
       "\n",
       "      BRZEG (250170050) Suma opadów [mm]  \\\n",
       "0                                   0.05   \n",
       "1                                   0.05   \n",
       "2                                   0.05   \n",
       "3                                   0.05   \n",
       "4                                   0.05   \n",
       "...                                  ...   \n",
       "4398                                1.70   \n",
       "4399                                1.70   \n",
       "4400                                1.70   \n",
       "4401                                1.70   \n",
       "4402                                1.70   \n",
       "\n",
       "      BRZEG DOLNY (251160230) Suma opadów [mm]  \\\n",
       "0                                          0.8   \n",
       "1                                          0.8   \n",
       "2                                          0.8   \n",
       "3                                          0.8   \n",
       "4                                          0.8   \n",
       "...                                        ...   \n",
       "4398                                       5.1   \n",
       "4399                                       5.1   \n",
       "4400                                       5.1   \n",
       "4401                                       5.1   \n",
       "4402                                       5.1   \n",
       "\n",
       "      CHWAŁKOWICE (251160170) Suma opadów [mm]  \\\n",
       "0                                          0.8   \n",
       "1                                          0.8   \n",
       "2                                          0.8   \n",
       "3                                          0.8   \n",
       "4                                          0.8   \n",
       "...                                        ...   \n",
       "4398                                       5.2   \n",
       "4399                                       5.2   \n",
       "4400                                       5.2   \n",
       "4401                                       5.2   \n",
       "4402                                       5.2   \n",
       "\n",
       "      GŁOGÓW (151160060) Suma opadów [mm]  \\\n",
       "0                                     0.2   \n",
       "1                                     0.2   \n",
       "2                                     0.2   \n",
       "3                                     0.2   \n",
       "4                                     0.2   \n",
       "...                                   ...   \n",
       "4398                                  3.8   \n",
       "4399                                  3.8   \n",
       "4400                                  3.8   \n",
       "4401                                  3.8   \n",
       "4402                                  3.8   \n",
       "\n",
       "      RACIBÓRZ-MIEDONIA (150180060) Suma opadów [mm]  \n",
       "0                                                0.5  \n",
       "1                                                0.5  \n",
       "2                                                0.5  \n",
       "3                                                0.5  \n",
       "4                                                0.5  \n",
       "...                                              ...  \n",
       "4398                                             2.0  \n",
       "4399                                             2.0  \n",
       "4400                                             2.0  \n",
       "4401                                             2.0  \n",
       "4402                                             2.0  \n",
       "\n",
       "[4403 rows x 13 columns]"
      ]
     },
     "execution_count": 2,
     "metadata": {},
     "output_type": "execute_result"
    }
   ],
   "source": [
    "dataset = pd.read_csv('../results/prepared_data.csv')\n",
    "\n",
    "# set the column type for column with date\n",
    "dataset['Data'] = pd.to_datetime(dataset['Data'], format='%Y-%m-%d')\n",
    "\n",
    "dataset"
   ]
  },
  {
   "cell_type": "code",
   "execution_count": 3,
   "id": "0a1e5778",
   "metadata": {
    "pycharm": {
     "name": "#%%\n"
    }
   },
   "outputs": [
    {
     "name": "stdout",
     "output_type": "stream",
     "text": [
      "<class 'pandas.core.frame.DataFrame'>\n",
      "RangeIndex: 4403 entries, 0 to 4402\n",
      "Data columns (total 13 columns):\n",
      " #   Column                                          Non-Null Count  Dtype         \n",
      "---  ------                                          --------------  -----         \n",
      " 0   Data                                            4403 non-null   datetime64[ns]\n",
      " 1   GŁOGÓW (151160060) Stan wody [cm]               4403 non-null   float64       \n",
      " 2   RACIBÓRZ-MIEDONIA (150180060) Stan wody [cm]    4403 non-null   float64       \n",
      " 3   BARDO ŚLĄSKIE (250160410) Suma opadów [mm]      4403 non-null   float64       \n",
      " 4   BIERUTÓW (251170270) Suma opadów [mm]           4403 non-null   float64       \n",
      " 5   BOLESŁAWÓW (250160610) Suma opadów [mm]         4403 non-null   float64       \n",
      " 6   BOLKÓW (250160030) Suma opadów [mm]             4403 non-null   float64       \n",
      " 7   BORÓW (250160070) Suma opadów [mm]              4403 non-null   float64       \n",
      " 8   BRZEG (250170050) Suma opadów [mm]              4403 non-null   float64       \n",
      " 9   BRZEG DOLNY (251160230) Suma opadów [mm]        4403 non-null   float64       \n",
      " 10  CHWAŁKOWICE (251160170) Suma opadów [mm]        4403 non-null   float64       \n",
      " 11  GŁOGÓW (151160060) Suma opadów [mm]             4403 non-null   float64       \n",
      " 12  RACIBÓRZ-MIEDONIA (150180060) Suma opadów [mm]  4403 non-null   float64       \n",
      "dtypes: datetime64[ns](1), float64(12)\n",
      "memory usage: 447.3 KB\n"
     ]
    }
   ],
   "source": [
    "dataset.info()"
   ]
  },
  {
   "cell_type": "markdown",
   "id": "da11cdfa",
   "metadata": {
    "pycharm": {
     "name": "#%% md\n"
    }
   },
   "source": [
    "# 3. Train Test Split"
   ]
  },
  {
   "cell_type": "code",
   "execution_count": null,
   "id": "4730ba8b",
   "metadata": {
    "pycharm": {
     "name": "#%%\n"
    }
   },
   "outputs": [],
   "source": []
  },
  {
   "cell_type": "markdown",
   "id": "1f8811f0",
   "metadata": {
    "pycharm": {
     "name": "#%% md\n"
    }
   },
   "source": [
    "# 4. Modelling & Backtests"
   ]
  },
  {
   "cell_type": "markdown",
   "id": "96a0bdc6",
   "metadata": {
    "pycharm": {
     "name": "#%%\n"
    }
   },
   "source": [
    "## 4.1 Baseline"
   ]
  },
  {
   "cell_type": "code",
   "execution_count": null,
   "id": "3ad2559d",
   "metadata": {
    "pycharm": {
     "name": "#%%\n"
    }
   },
   "outputs": [],
   "source": []
  },
  {
   "cell_type": "code",
   "execution_count": null,
   "id": "066783e6",
   "metadata": {},
   "outputs": [],
   "source": []
  },
  {
   "cell_type": "markdown",
   "id": "89a3f8ce",
   "metadata": {},
   "source": [
    "## 4.2 BayesianRidge"
   ]
  },
  {
   "cell_type": "markdown",
   "id": "e06383da",
   "metadata": {},
   "source": [
    "### 4.2.1 Past-observed covariates"
   ]
  },
  {
   "cell_type": "code",
   "execution_count": null,
   "id": "1bae8c36",
   "metadata": {},
   "outputs": [],
   "source": []
  },
  {
   "cell_type": "code",
   "execution_count": null,
   "id": "3998c7f3",
   "metadata": {},
   "outputs": [],
   "source": []
  },
  {
   "cell_type": "markdown",
   "id": "7dd0545d",
   "metadata": {},
   "source": [
    "### 4.2.2 Past-observed covariates + Future-known covariates"
   ]
  },
  {
   "cell_type": "code",
   "execution_count": null,
   "id": "ac921af4",
   "metadata": {},
   "outputs": [],
   "source": []
  },
  {
   "cell_type": "code",
   "execution_count": null,
   "id": "9d9fdcb7",
   "metadata": {},
   "outputs": [],
   "source": []
  },
  {
   "cell_type": "markdown",
   "id": "9d055565",
   "metadata": {},
   "source": [
    "## 4.3 Temporal Fusion Transformer"
   ]
  },
  {
   "cell_type": "markdown",
   "id": "0fcfc285",
   "metadata": {},
   "source": [
    "### 4.3.1 Past-observed covariates"
   ]
  },
  {
   "cell_type": "code",
   "execution_count": null,
   "id": "b1855416",
   "metadata": {},
   "outputs": [],
   "source": []
  },
  {
   "cell_type": "code",
   "execution_count": null,
   "id": "eaf0ad7c",
   "metadata": {},
   "outputs": [],
   "source": []
  },
  {
   "cell_type": "markdown",
   "id": "4152500b",
   "metadata": {},
   "source": [
    "### 4.3.2 Past-observed covariates + Future-known covariates"
   ]
  },
  {
   "cell_type": "code",
   "execution_count": null,
   "id": "cf39a7a5",
   "metadata": {},
   "outputs": [],
   "source": []
  },
  {
   "cell_type": "code",
   "execution_count": null,
   "id": "c7e7c192",
   "metadata": {},
   "outputs": [],
   "source": []
  },
  {
   "cell_type": "markdown",
   "id": "45730809",
   "metadata": {},
   "source": [
    "## 4.4 Linear mixed effects "
   ]
  },
  {
   "cell_type": "markdown",
   "id": "10a8a31d",
   "metadata": {},
   "source": [
    "### 4.4.1 Past-observed covariates"
   ]
  },
  {
   "cell_type": "code",
   "execution_count": null,
   "id": "456af3c6",
   "metadata": {},
   "outputs": [],
   "source": []
  },
  {
   "cell_type": "code",
   "execution_count": null,
   "id": "0e9f8579",
   "metadata": {
    "pycharm": {
     "name": "#%%\n"
    }
   },
   "outputs": [],
   "source": []
  },
  {
   "cell_type": "markdown",
   "id": "f03ca0ec",
   "metadata": {},
   "source": [
    "### 4.4.2 Past-observed covariates + Future-known covariates"
   ]
  },
  {
   "cell_type": "code",
   "execution_count": null,
   "id": "99a628ca",
   "metadata": {},
   "outputs": [],
   "source": []
  },
  {
   "cell_type": "code",
   "execution_count": null,
   "id": "bbe8f128",
   "metadata": {},
   "outputs": [],
   "source": []
  },
  {
   "cell_type": "markdown",
   "id": "9ff3ac77",
   "metadata": {
    "pycharm": {
     "name": "#%% md\n"
    }
   },
   "source": [
    "# 5. Save Model"
   ]
  },
  {
   "cell_type": "code",
   "execution_count": null,
   "id": "f3eac3df",
   "metadata": {
    "pycharm": {
     "name": "#%%\n"
    }
   },
   "outputs": [],
   "source": []
  }
 ],
 "metadata": {
  "kernelspec": {
   "display_name": "Python 3 (ipykernel)",
   "language": "python",
   "name": "python3"
  },
  "language_info": {
   "codemirror_mode": {
    "name": "ipython",
    "version": 3
   },
   "file_extension": ".py",
   "mimetype": "text/x-python",
   "name": "python",
   "nbconvert_exporter": "python",
   "pygments_lexer": "ipython3",
   "version": "3.10.8"
  }
 },
 "nbformat": 4,
 "nbformat_minor": 5
}
