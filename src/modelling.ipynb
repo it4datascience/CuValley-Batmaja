{
 "cells": [
  {
   "cell_type": "markdown",
   "id": "288abf77",
   "metadata": {
    "pycharm": {
     "name": "#%% md\n"
    }
   },
   "source": [
    "# 1. Import libraries"
   ]
  },
  {
   "cell_type": "code",
   "execution_count": 1,
   "id": "a8572b40",
   "metadata": {
    "pycharm": {
     "name": "#%%\n"
    }
   },
   "outputs": [],
   "source": [
    "# data manipulation\n",
    "import pandas as pd\n",
    "\n",
    "# pipeline\n",
    "from sklearn.pipeline import Pipeline\n",
    "\n",
    "# transformers\n",
    "from sklearn.impute import SimpleImputer\n",
    "\n",
    "# model\n",
    "from sklearn.tree import DecisionTreeRegressor\n",
    "\n",
    "# save model\n",
    "from joblib import dump\n",
    "\n",
    "import warnings\n",
    "warnings.filterwarnings('ignore')"
   ]
  },
  {
   "cell_type": "markdown",
   "id": "406a6663",
   "metadata": {
    "pycharm": {
     "name": "#%% md\n"
    }
   },
   "source": [
    "# 2. Load data"
   ]
  },
  {
   "cell_type": "code",
   "execution_count": 2,
   "id": "10bd7195",
   "metadata": {
    "pycharm": {
     "name": "#%%\n"
    }
   },
   "outputs": [
    {
     "data": {
      "text/plain": "           Date  Volume  Rain  Temp  Volume_ma_7\n0    2016-11-24  1962.0   0.0   1.1  1239.000000\n1    2016-11-25  1638.0   1.0   3.1  1386.000000\n2    2016-11-26   384.0   0.0   5.4  1449.000000\n3    2016-11-27   396.0   0.0   2.6  1469.142857\n4    2016-11-28  2175.0   0.0  -1.3  1492.285714\n...         ...     ...   ...   ...          ...\n1261 2020-05-16  2484.0   0.0   6.6  4507.285714\n1262 2020-05-17  1509.0   0.0   9.1  4336.285714\n1263 2020-05-18  5775.0   0.0   9.3  4363.285714\n1264 2020-05-19  6741.0   0.0   9.7  4430.571429\n1265 2020-05-20  1647.0   0.0  10.8  4696.285714\n\n[1266 rows x 5 columns]",
      "text/html": "<div>\n<style scoped>\n    .dataframe tbody tr th:only-of-type {\n        vertical-align: middle;\n    }\n\n    .dataframe tbody tr th {\n        vertical-align: top;\n    }\n\n    .dataframe thead th {\n        text-align: right;\n    }\n</style>\n<table border=\"1\" class=\"dataframe\">\n  <thead>\n    <tr style=\"text-align: right;\">\n      <th></th>\n      <th>Date</th>\n      <th>Volume</th>\n      <th>Rain</th>\n      <th>Temp</th>\n      <th>Volume_ma_7</th>\n    </tr>\n  </thead>\n  <tbody>\n    <tr>\n      <th>0</th>\n      <td>2016-11-24</td>\n      <td>1962.0</td>\n      <td>0.0</td>\n      <td>1.1</td>\n      <td>1239.000000</td>\n    </tr>\n    <tr>\n      <th>1</th>\n      <td>2016-11-25</td>\n      <td>1638.0</td>\n      <td>1.0</td>\n      <td>3.1</td>\n      <td>1386.000000</td>\n    </tr>\n    <tr>\n      <th>2</th>\n      <td>2016-11-26</td>\n      <td>384.0</td>\n      <td>0.0</td>\n      <td>5.4</td>\n      <td>1449.000000</td>\n    </tr>\n    <tr>\n      <th>3</th>\n      <td>2016-11-27</td>\n      <td>396.0</td>\n      <td>0.0</td>\n      <td>2.6</td>\n      <td>1469.142857</td>\n    </tr>\n    <tr>\n      <th>4</th>\n      <td>2016-11-28</td>\n      <td>2175.0</td>\n      <td>0.0</td>\n      <td>-1.3</td>\n      <td>1492.285714</td>\n    </tr>\n    <tr>\n      <th>...</th>\n      <td>...</td>\n      <td>...</td>\n      <td>...</td>\n      <td>...</td>\n      <td>...</td>\n    </tr>\n    <tr>\n      <th>1261</th>\n      <td>2020-05-16</td>\n      <td>2484.0</td>\n      <td>0.0</td>\n      <td>6.6</td>\n      <td>4507.285714</td>\n    </tr>\n    <tr>\n      <th>1262</th>\n      <td>2020-05-17</td>\n      <td>1509.0</td>\n      <td>0.0</td>\n      <td>9.1</td>\n      <td>4336.285714</td>\n    </tr>\n    <tr>\n      <th>1263</th>\n      <td>2020-05-18</td>\n      <td>5775.0</td>\n      <td>0.0</td>\n      <td>9.3</td>\n      <td>4363.285714</td>\n    </tr>\n    <tr>\n      <th>1264</th>\n      <td>2020-05-19</td>\n      <td>6741.0</td>\n      <td>0.0</td>\n      <td>9.7</td>\n      <td>4430.571429</td>\n    </tr>\n    <tr>\n      <th>1265</th>\n      <td>2020-05-20</td>\n      <td>1647.0</td>\n      <td>0.0</td>\n      <td>10.8</td>\n      <td>4696.285714</td>\n    </tr>\n  </tbody>\n</table>\n<p>1266 rows × 5 columns</p>\n</div>"
     },
     "execution_count": 2,
     "metadata": {},
     "output_type": "execute_result"
    }
   ],
   "source": [
    "dataset = pd.read_csv('../data/prepared_data.csv')\n",
    "dataset['Date'] = pd.to_datetime(dataset['Date'], format='%Y-%m-%d')\n",
    "\n",
    "# Rolling mean\n",
    "dataset['Volume_ma_7'] = dataset['Volume'].shift(1).rolling(7).mean()\n",
    "dataset.dropna(inplace=True)\n",
    "dataset.reset_index(drop=True, inplace=True)\n",
    "\n",
    "dataset"
   ]
  },
  {
   "cell_type": "code",
   "execution_count": 3,
   "id": "0a1e5778",
   "metadata": {
    "pycharm": {
     "name": "#%%\n"
    }
   },
   "outputs": [
    {
     "name": "stdout",
     "output_type": "stream",
     "text": [
      "<class 'pandas.core.frame.DataFrame'>\n",
      "RangeIndex: 1266 entries, 0 to 1265\n",
      "Data columns (total 5 columns):\n",
      " #   Column       Non-Null Count  Dtype         \n",
      "---  ------       --------------  -----         \n",
      " 0   Date         1266 non-null   datetime64[ns]\n",
      " 1   Volume       1266 non-null   float64       \n",
      " 2   Rain         1266 non-null   float64       \n",
      " 3   Temp         1266 non-null   float64       \n",
      " 4   Volume_ma_7  1266 non-null   float64       \n",
      "dtypes: datetime64[ns](1), float64(4)\n",
      "memory usage: 49.6 KB\n"
     ]
    }
   ],
   "source": [
    "dataset.info()"
   ]
  },
  {
   "cell_type": "markdown",
   "id": "da11cdfa",
   "metadata": {
    "pycharm": {
     "name": "#%% md\n"
    }
   },
   "source": [
    "# 3. Train Test Split"
   ]
  },
  {
   "cell_type": "code",
   "execution_count": 4,
   "id": "4730ba8b",
   "metadata": {
    "pycharm": {
     "name": "#%%\n"
    }
   },
   "outputs": [],
   "source": [
    "first_test_date = pd.datetime.strptime('2020-01-01', '%Y-%m-%d')\n",
    "\n",
    "train_dataset = dataset.loc[dataset['Date']<first_test_date, :].copy()\n",
    "X_train, y_train = train_dataset[['Volume_ma_7']].copy(), train_dataset['Volume'].copy()\n",
    "\n",
    "test_dataset = dataset.loc[dataset['Date']>=first_test_date, :].copy()\n",
    "X_test, y_test = test_dataset[['Volume_ma_7']].copy(), test_dataset['Volume'].copy()"
   ]
  },
  {
   "cell_type": "markdown",
   "id": "e6195277",
   "metadata": {
    "pycharm": {
     "name": "#%% md\n"
    }
   },
   "source": [
    "# 4. Feature Engineering"
   ]
  },
  {
   "cell_type": "code",
   "execution_count": 5,
   "id": "e427ed8a",
   "metadata": {
    "pycharm": {
     "name": "#%%\n"
    }
   },
   "outputs": [],
   "source": [
    "feature_engineering = Pipeline([\n",
    "    ('missing_imputer', SimpleImputer()),\n",
    "])"
   ]
  },
  {
   "cell_type": "markdown",
   "id": "1f8811f0",
   "metadata": {
    "pycharm": {
     "name": "#%% md\n"
    }
   },
   "source": [
    "# 5. Modelling"
   ]
  },
  {
   "cell_type": "code",
   "execution_count": 6,
   "id": "c2ffad64",
   "metadata": {
    "pycharm": {
     "name": "#%%\n"
    }
   },
   "outputs": [],
   "source": [
    "model_pipeline = Pipeline([\n",
    "    ('feature_engineering', feature_engineering),\n",
    "    ('model', DecisionTreeRegressor(max_depth=7, min_samples_leaf=20))\n",
    "])"
   ]
  },
  {
   "cell_type": "code",
   "execution_count": 7,
   "id": "3ad2559d",
   "metadata": {
    "pycharm": {
     "name": "#%%\n"
    }
   },
   "outputs": [
    {
     "data": {
      "text/plain": "Pipeline(steps=[('feature_engineering',\n                 Pipeline(steps=[('missing_imputer', SimpleImputer())])),\n                ('model',\n                 DecisionTreeRegressor(max_depth=7, min_samples_leaf=20))])",
      "text/html": "<style>#sk-container-id-1 {color: black;background-color: white;}#sk-container-id-1 pre{padding: 0;}#sk-container-id-1 div.sk-toggleable {background-color: white;}#sk-container-id-1 label.sk-toggleable__label {cursor: pointer;display: block;width: 100%;margin-bottom: 0;padding: 0.3em;box-sizing: border-box;text-align: center;}#sk-container-id-1 label.sk-toggleable__label-arrow:before {content: \"▸\";float: left;margin-right: 0.25em;color: #696969;}#sk-container-id-1 label.sk-toggleable__label-arrow:hover:before {color: black;}#sk-container-id-1 div.sk-estimator:hover label.sk-toggleable__label-arrow:before {color: black;}#sk-container-id-1 div.sk-toggleable__content {max-height: 0;max-width: 0;overflow: hidden;text-align: left;background-color: #f0f8ff;}#sk-container-id-1 div.sk-toggleable__content pre {margin: 0.2em;color: black;border-radius: 0.25em;background-color: #f0f8ff;}#sk-container-id-1 input.sk-toggleable__control:checked~div.sk-toggleable__content {max-height: 200px;max-width: 100%;overflow: auto;}#sk-container-id-1 input.sk-toggleable__control:checked~label.sk-toggleable__label-arrow:before {content: \"▾\";}#sk-container-id-1 div.sk-estimator input.sk-toggleable__control:checked~label.sk-toggleable__label {background-color: #d4ebff;}#sk-container-id-1 div.sk-label input.sk-toggleable__control:checked~label.sk-toggleable__label {background-color: #d4ebff;}#sk-container-id-1 input.sk-hidden--visually {border: 0;clip: rect(1px 1px 1px 1px);clip: rect(1px, 1px, 1px, 1px);height: 1px;margin: -1px;overflow: hidden;padding: 0;position: absolute;width: 1px;}#sk-container-id-1 div.sk-estimator {font-family: monospace;background-color: #f0f8ff;border: 1px dotted black;border-radius: 0.25em;box-sizing: border-box;margin-bottom: 0.5em;}#sk-container-id-1 div.sk-estimator:hover {background-color: #d4ebff;}#sk-container-id-1 div.sk-parallel-item::after {content: \"\";width: 100%;border-bottom: 1px solid gray;flex-grow: 1;}#sk-container-id-1 div.sk-label:hover label.sk-toggleable__label {background-color: #d4ebff;}#sk-container-id-1 div.sk-serial::before {content: \"\";position: absolute;border-left: 1px solid gray;box-sizing: border-box;top: 0;bottom: 0;left: 50%;z-index: 0;}#sk-container-id-1 div.sk-serial {display: flex;flex-direction: column;align-items: center;background-color: white;padding-right: 0.2em;padding-left: 0.2em;position: relative;}#sk-container-id-1 div.sk-item {position: relative;z-index: 1;}#sk-container-id-1 div.sk-parallel {display: flex;align-items: stretch;justify-content: center;background-color: white;position: relative;}#sk-container-id-1 div.sk-item::before, #sk-container-id-1 div.sk-parallel-item::before {content: \"\";position: absolute;border-left: 1px solid gray;box-sizing: border-box;top: 0;bottom: 0;left: 50%;z-index: -1;}#sk-container-id-1 div.sk-parallel-item {display: flex;flex-direction: column;z-index: 1;position: relative;background-color: white;}#sk-container-id-1 div.sk-parallel-item:first-child::after {align-self: flex-end;width: 50%;}#sk-container-id-1 div.sk-parallel-item:last-child::after {align-self: flex-start;width: 50%;}#sk-container-id-1 div.sk-parallel-item:only-child::after {width: 0;}#sk-container-id-1 div.sk-dashed-wrapped {border: 1px dashed gray;margin: 0 0.4em 0.5em 0.4em;box-sizing: border-box;padding-bottom: 0.4em;background-color: white;}#sk-container-id-1 div.sk-label label {font-family: monospace;font-weight: bold;display: inline-block;line-height: 1.2em;}#sk-container-id-1 div.sk-label-container {text-align: center;}#sk-container-id-1 div.sk-container {/* jupyter's `normalize.less` sets `[hidden] { display: none; }` but bootstrap.min.css set `[hidden] { display: none !important; }` so we also need the `!important` here to be able to override the default hidden behavior on the sphinx rendered scikit-learn.org. See: https://github.com/scikit-learn/scikit-learn/issues/21755 */display: inline-block !important;position: relative;}#sk-container-id-1 div.sk-text-repr-fallback {display: none;}</style><div id=\"sk-container-id-1\" class=\"sk-top-container\"><div class=\"sk-text-repr-fallback\"><pre>Pipeline(steps=[(&#x27;feature_engineering&#x27;,\n                 Pipeline(steps=[(&#x27;missing_imputer&#x27;, SimpleImputer())])),\n                (&#x27;model&#x27;,\n                 DecisionTreeRegressor(max_depth=7, min_samples_leaf=20))])</pre><b>In a Jupyter environment, please rerun this cell to show the HTML representation or trust the notebook. <br />On GitHub, the HTML representation is unable to render, please try loading this page with nbviewer.org.</b></div><div class=\"sk-container\" hidden><div class=\"sk-item sk-dashed-wrapped\"><div class=\"sk-label-container\"><div class=\"sk-label sk-toggleable\"><input class=\"sk-toggleable__control sk-hidden--visually\" id=\"sk-estimator-id-1\" type=\"checkbox\" ><label for=\"sk-estimator-id-1\" class=\"sk-toggleable__label sk-toggleable__label-arrow\">Pipeline</label><div class=\"sk-toggleable__content\"><pre>Pipeline(steps=[(&#x27;feature_engineering&#x27;,\n                 Pipeline(steps=[(&#x27;missing_imputer&#x27;, SimpleImputer())])),\n                (&#x27;model&#x27;,\n                 DecisionTreeRegressor(max_depth=7, min_samples_leaf=20))])</pre></div></div></div><div class=\"sk-serial\"><div class=\"sk-item\"><div class=\"sk-label-container\"><div class=\"sk-label sk-toggleable\"><input class=\"sk-toggleable__control sk-hidden--visually\" id=\"sk-estimator-id-2\" type=\"checkbox\" ><label for=\"sk-estimator-id-2\" class=\"sk-toggleable__label sk-toggleable__label-arrow\">feature_engineering: Pipeline</label><div class=\"sk-toggleable__content\"><pre>Pipeline(steps=[(&#x27;missing_imputer&#x27;, SimpleImputer())])</pre></div></div></div><div class=\"sk-serial\"><div class=\"sk-item\"><div class=\"sk-estimator sk-toggleable\"><input class=\"sk-toggleable__control sk-hidden--visually\" id=\"sk-estimator-id-3\" type=\"checkbox\" ><label for=\"sk-estimator-id-3\" class=\"sk-toggleable__label sk-toggleable__label-arrow\">SimpleImputer</label><div class=\"sk-toggleable__content\"><pre>SimpleImputer()</pre></div></div></div></div></div><div class=\"sk-item\"><div class=\"sk-estimator sk-toggleable\"><input class=\"sk-toggleable__control sk-hidden--visually\" id=\"sk-estimator-id-4\" type=\"checkbox\" ><label for=\"sk-estimator-id-4\" class=\"sk-toggleable__label sk-toggleable__label-arrow\">DecisionTreeRegressor</label><div class=\"sk-toggleable__content\"><pre>DecisionTreeRegressor(max_depth=7, min_samples_leaf=20)</pre></div></div></div></div></div></div></div>"
     },
     "execution_count": 7,
     "metadata": {},
     "output_type": "execute_result"
    }
   ],
   "source": [
    "model_pipeline.fit(X_train, y_train)"
   ]
  },
  {
   "cell_type": "code",
   "execution_count": 8,
   "id": "0e9f8579",
   "metadata": {
    "pycharm": {
     "name": "#%%\n"
    }
   },
   "outputs": [
    {
     "data": {
      "text/plain": "array([ 497.04      ,  497.04      ,  808.02985075,  808.02985075,\n        808.02985075,  808.02985075, 1066.78125   , 1336.96875   ,\n       2054.35714286, 2564.86363636, 2564.86363636, 2564.86363636,\n       2564.86363636, 2564.86363636, 2564.86363636, 2054.35714286,\n       2054.35714286, 2054.35714286, 2054.35714286, 2054.35714286,\n       1626.96774194, 2054.35714286, 2054.35714286, 2054.35714286,\n       2564.86363636, 2564.86363636, 2564.86363636, 2564.86363636,\n       2054.35714286, 2054.35714286, 2054.35714286, 1626.96774194,\n       1626.96774194, 1626.96774194, 1626.96774194, 1626.96774194,\n       1626.96774194, 1626.96774194, 1626.96774194, 1626.96774194,\n       1626.96774194, 1626.96774194, 1626.96774194, 2054.35714286,\n       2054.35714286, 2564.86363636, 2564.86363636, 2564.86363636,\n       2564.86363636, 2054.35714286, 2054.35714286, 1626.96774194,\n       1336.96875   , 1336.96875   , 1626.96774194, 2054.35714286,\n       2054.35714286, 2054.35714286, 2564.86363636, 2564.86363636,\n       2564.86363636, 2564.86363636, 2054.35714286, 1626.96774194,\n       1626.96774194, 1626.96774194, 1626.96774194, 1626.96774194,\n       1626.96774194, 1626.96774194, 2054.35714286, 2564.86363636,\n       2564.86363636, 2564.86363636, 2564.86363636, 2564.86363636,\n       2054.35714286, 2054.35714286, 1626.96774194, 1626.96774194,\n       2054.35714286, 2564.86363636, 1928.7       , 1928.7       ,\n       1928.7       , 1928.7       , 1928.7       , 1928.7       ,\n       2707.63636364, 2707.63636364, 2326.2       , 3140.18181818,\n       2679.        , 2679.        , 2679.        , 2679.        ,\n       3140.18181818, 3251.53846154, 3251.53846154, 3251.53846154,\n       2438.18181818, 3632.86363636, 3571.95      , 3632.86363636,\n       3571.95      , 3251.53846154, 2648.60869565, 3632.86363636,\n       3632.86363636, 4582.2       , 4784.25      , 4939.575     ,\n       4225.25581395, 4225.25581395, 4225.25581395, 4225.25581395,\n       4225.25581395, 4225.25581395, 3237.75      , 4784.25      ,\n       4582.2       , 3723.28571429, 3632.86363636, 3632.86363636,\n       2648.60869565, 4582.2       , 3322.28571429, 3237.75      ,\n       4225.25581395, 4225.25581395, 4225.25581395, 4225.25581395,\n       4225.25581395, 4225.25581395, 4225.25581395, 4225.25581395,\n       4225.25581395, 4939.575     , 4939.575     , 4225.25581395,\n       4225.25581395])"
     },
     "execution_count": 8,
     "metadata": {},
     "output_type": "execute_result"
    }
   ],
   "source": [
    "# forecast\n",
    "model_pipeline.predict(X_test)"
   ]
  },
  {
   "cell_type": "markdown",
   "source": [
    "# 6. Save Output"
   ],
   "metadata": {
    "collapsed": false,
    "pycharm": {
     "name": "#%% md\n"
    }
   }
  },
  {
   "cell_type": "code",
   "execution_count": 9,
   "outputs": [
    {
     "data": {
      "text/plain": "['../Dash_app/assets/fitted_model.pkl']"
     },
     "execution_count": 9,
     "metadata": {},
     "output_type": "execute_result"
    }
   ],
   "source": [
    "# save datasets\n",
    "X_test.to_csv(\"../Dash_app/assets/X_test.csv\", index=False)\n",
    "y_test.to_csv(\"../Dash_app/assets/y_test.csv\", index=False)\n",
    "dump(model_pipeline, filename='../Dash_app/assets/fitted_model.pkl')"
   ],
   "metadata": {
    "collapsed": false,
    "pycharm": {
     "name": "#%%\n"
    }
   }
  }
 ],
 "metadata": {
  "kernelspec": {
   "display_name": "Python 3 (ipykernel)",
   "language": "python",
   "name": "python3"
  },
  "language_info": {
   "codemirror_mode": {
    "name": "ipython",
    "version": 3
   },
   "file_extension": ".py",
   "mimetype": "text/x-python",
   "name": "python",
   "nbconvert_exporter": "python",
   "pygments_lexer": "ipython3",
   "version": "3.10.8"
  }
 },
 "nbformat": 4,
 "nbformat_minor": 5
}