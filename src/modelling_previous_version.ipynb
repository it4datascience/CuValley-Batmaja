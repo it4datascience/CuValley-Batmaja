{
 "cells": [
  {
   "cell_type": "markdown",
   "id": "288abf77",
   "metadata": {
    "pycharm": {
     "name": "#%% md\n"
    }
   },
   "source": [
    "# 1. Import libraries"
   ]
  },
  {
   "cell_type": "code",
   "execution_count": null,
   "id": "a8572b40",
   "metadata": {
    "pycharm": {
     "name": "#%%\n"
    }
   },
   "outputs": [],
   "source": [
    "# data manipulation\n",
    "import pandas as pd\n",
    "\n",
    "# pipeline\n",
    "from sklearn.pipeline import Pipeline\n",
    "\n",
    "# transformers\n",
    "from sklearn.impute import SimpleImputer\n",
    "\n",
    "# model\n",
    "from sklearn.tree import DecisionTreeRegressor\n",
    "\n",
    "# save model\n",
    "from joblib import dump\n",
    "\n",
    "import warnings\n",
    "warnings.filterwarnings('ignore')"
   ]
  },
  {
   "cell_type": "markdown",
   "id": "406a6663",
   "metadata": {
    "pycharm": {
     "name": "#%% md\n"
    }
   },
   "source": [
    "# 2. Load data"
   ]
  },
  {
   "cell_type": "code",
   "execution_count": null,
   "id": "10bd7195",
   "metadata": {
    "pycharm": {
     "name": "#%%\n"
    }
   },
   "outputs": [],
   "source": [
    "dataset = pd.read_csv('../data/prepared_data.csv')\n",
    "dataset['Date'] = pd.to_datetime(dataset['Date'], format='%Y-%m-%d')\n",
    "\n",
    "# Rolling mean\n",
    "dataset['Volume_ma_7'] = dataset['Volume'].shift(1).rolling(7).mean()\n",
    "dataset.dropna(inplace=True)\n",
    "dataset.reset_index(drop=True, inplace=True)\n",
    "\n",
    "dataset"
   ]
  },
  {
   "cell_type": "code",
   "execution_count": null,
   "id": "0a1e5778",
   "metadata": {
    "pycharm": {
     "name": "#%%\n"
    }
   },
   "outputs": [],
   "source": [
    "dataset.info()"
   ]
  },
  {
   "cell_type": "markdown",
   "id": "da11cdfa",
   "metadata": {
    "pycharm": {
     "name": "#%% md\n"
    }
   },
   "source": [
    "# 3. Train Test Split"
   ]
  },
  {
   "cell_type": "code",
   "execution_count": null,
   "id": "4730ba8b",
   "metadata": {
    "pycharm": {
     "name": "#%%\n"
    }
   },
   "outputs": [],
   "source": [
    "first_test_date = pd.datetime.strptime('2020-01-01', '%Y-%m-%d')\n",
    "\n",
    "train_dataset = dataset.loc[dataset['Date']<first_test_date, :].copy()\n",
    "X_train, y_train = train_dataset[['Volume_ma_7']].copy(), train_dataset['Volume'].copy()\n",
    "\n",
    "test_dataset = dataset.loc[dataset['Date']>=first_test_date, :].copy()\n",
    "X_test, y_test = test_dataset[['Volume_ma_7']].copy(), test_dataset['Volume'].copy()"
   ]
  },
  {
   "cell_type": "markdown",
   "id": "e6195277",
   "metadata": {
    "pycharm": {
     "name": "#%% md\n"
    }
   },
   "source": [
    "# 4. Feature Engineering"
   ]
  },
  {
   "cell_type": "code",
   "execution_count": null,
   "id": "e427ed8a",
   "metadata": {
    "pycharm": {
     "name": "#%%\n"
    }
   },
   "outputs": [],
   "source": [
    "feature_engineering = Pipeline([\n",
    "    ('missing_imputer', SimpleImputer()),\n",
    "])"
   ]
  },
  {
   "cell_type": "markdown",
   "id": "1f8811f0",
   "metadata": {
    "pycharm": {
     "name": "#%% md\n"
    }
   },
   "source": [
    "# 5. Modelling"
   ]
  },
  {
   "cell_type": "code",
   "execution_count": null,
   "id": "c2ffad64",
   "metadata": {
    "pycharm": {
     "name": "#%%\n"
    }
   },
   "outputs": [],
   "source": [
    "model_pipeline = Pipeline([\n",
    "    ('feature_engineering', feature_engineering),\n",
    "    ('model', DecisionTreeRegressor(max_depth=7, min_samples_leaf=20))\n",
    "])"
   ]
  },
  {
   "cell_type": "code",
   "execution_count": null,
   "id": "3ad2559d",
   "metadata": {
    "pycharm": {
     "name": "#%%\n"
    }
   },
   "outputs": [],
   "source": [
    "model_pipeline.fit(X_train, y_train)"
   ]
  },
  {
   "cell_type": "code",
   "execution_count": null,
   "id": "0e9f8579",
   "metadata": {
    "pycharm": {
     "name": "#%%\n"
    }
   },
   "outputs": [],
   "source": [
    "# forecast\n",
    "model_pipeline.predict(X_test)"
   ]
  },
  {
   "cell_type": "markdown",
   "id": "9ff3ac77",
   "metadata": {
    "pycharm": {
     "name": "#%% md\n"
    }
   },
   "source": [
    "# 6. Save Output"
   ]
  },
  {
   "cell_type": "code",
   "execution_count": null,
   "id": "f3eac3df",
   "metadata": {
    "pycharm": {
     "name": "#%%\n"
    }
   },
   "outputs": [],
   "source": [
    "# save datasets\n",
    "X_test.to_csv(\"../Dash_app/assets/X_test.csv\", index=False)\n",
    "y_test.to_csv(\"../Dash_app/assets/y_test.csv\", index=False)\n",
    "dump(model_pipeline, filename='../Dash_app/assets/fitted_model.pkl')"
   ]
  }
 ],
 "metadata": {
  "kernelspec": {
   "display_name": "Python 3 (ipykernel)",
   "language": "python",
   "name": "python3"
  },
  "language_info": {
   "codemirror_mode": {
    "name": "ipython",
    "version": 3
   },
   "file_extension": ".py",
   "mimetype": "text/x-python",
   "name": "python",
   "nbconvert_exporter": "python",
   "pygments_lexer": "ipython3",
   "version": "3.10.8"
  }
 },
 "nbformat": 4,
 "nbformat_minor": 5
}
