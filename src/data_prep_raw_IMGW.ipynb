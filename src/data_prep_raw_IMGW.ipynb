{
 "cells": [
  {
   "cell_type": "markdown",
   "id": "9c860b45",
   "metadata": {
    "pycharm": {
     "name": "#%% md\n"
    }
   },
   "source": [
    "# 1. Import libraries"
   ]
  },
  {
   "cell_type": "code",
   "execution_count": null,
   "id": "8450e43a",
   "metadata": {
    "pycharm": {
     "name": "#%%\n"
    }
   },
   "outputs": [],
   "source": [
    "import numpy as np\n",
    "import pandas as pd\n",
    "\n",
    "import os"
   ]
  },
  {
   "cell_type": "code",
   "execution_count": null,
   "id": "1b28428b",
   "metadata": {},
   "outputs": [],
   "source": [
    "water_directory = '../data/imgw/stan_wody'\n",
    "rain_directory = '../data/imgw/opady'"
   ]
  },
  {
   "cell_type": "markdown",
   "id": "54381fc2",
   "metadata": {
    "pycharm": {
     "name": "#%% md\n"
    }
   },
   "source": [
    "# 2. Load data"
   ]
  },
  {
   "cell_type": "markdown",
   "id": "2745b32b",
   "metadata": {},
   "source": [
    "## 2.0 Hierarchy"
   ]
  },
  {
   "cell_type": "code",
   "execution_count": null,
   "id": "bd66eaa5",
   "metadata": {},
   "outputs": [],
   "source": [
    "hierarchy = pd.read_excel('../data/hierarchy.xlsx')\n",
    "hierarchy.rename({'meteo - id': 'id_meteo', 'meteo - nazwa': 'name_meteo', \n",
    "                  'hydro - id': 'id_hydro', 'hydro - nazwa': 'name_hydro',\n",
    "                  'cz-ta-sama-lokalizacja': 'the_same_location'}, axis=1, inplace=True)\n",
    "hierarchy['id_meteo'] = hierarchy['id_meteo'].fillna(0).astype(int)\n",
    "hierarchy['id_hydro'] = hierarchy['id_hydro'].fillna(0).astype(int)\n",
    "hierarchy['the_same_location'] = hierarchy['the_same_location'].replace({'tak': 1, 'nie': 0})\n",
    "\n",
    "# hierarchy\n",
    "\n",
    "# hierarchy = pd.DataFrame({'id_hydro': [151160060, 151160140, 151160170, 151170030], \n",
    "#                           'name_hydro': ['G£OGÓW', 'OSETNO', 'BRZEG DOLNY', 'TRESTNO'], \n",
    "#                           'id_meteo': [0, 251160110, 251160230, 251170420], \n",
    "#                           'name_meteo': ['no_info', 'OSETNO', 'BRZEG DOLNY', '£ANY']})\n",
    "\n",
    "hierarchy"
   ]
  },
  {
   "cell_type": "markdown",
   "id": "5bc89168",
   "metadata": {},
   "source": [
    "## 2.1 stan wody"
   ]
  },
  {
   "cell_type": "code",
   "execution_count": null,
   "id": "b662d873",
   "metadata": {},
   "outputs": [],
   "source": [
    "raw_water_level = pd.DataFrame()\n",
    "\n",
    "for water_period in os.listdir(water_directory):\n",
    "    water_period_df = pd.read_csv(os.path.join(water_directory, water_period), encoding = \"ISO-8859-1\", header=None)\n",
    "    raw_water_level = pd.concat([raw_water_level, water_period_df], axis=0)\n",
    "    \n",
    "raw_water_level.reset_index(drop=True, inplace=True)\n",
    "raw_water_level"
   ]
  },
  {
   "cell_type": "markdown",
   "id": "4ed45a3a",
   "metadata": {},
   "source": [
    "## 2.2 opady"
   ]
  },
  {
   "cell_type": "code",
   "execution_count": null,
   "id": "3b913547",
   "metadata": {},
   "outputs": [],
   "source": [
    "raw_rain_level = pd.DataFrame()\n",
    "\n",
    "for rain_period in os.listdir(rain_directory):    \n",
    "    rain_period_df = pd.read_csv(os.path.join(rain_directory, rain_period), encoding = \"ISO-8859-1\", header=None)\n",
    "    raw_rain_level = pd.concat([raw_rain_level, rain_period_df], axis=0)\n",
    "    \n",
    "raw_rain_level.reset_index(drop=True, inplace=True)\n",
    "raw_rain_level"
   ]
  },
  {
   "cell_type": "markdown",
   "id": "4b6cb2c0",
   "metadata": {
    "pycharm": {
     "name": "#%% md\n"
    }
   },
   "source": [
    "# 3. Data Preprocessing"
   ]
  },
  {
   "cell_type": "markdown",
   "id": "c449e886",
   "metadata": {},
   "source": [
    "## 3.1 stan wody"
   ]
  },
  {
   "cell_type": "code",
   "execution_count": null,
   "id": "2d38c598",
   "metadata": {},
   "outputs": [],
   "source": [
    "def add_corect_year(row):\n",
    "    year = row['Rok_hydrologiczny']\n",
    "    if row['miesiąc']>=11:\n",
    "        year = year - 1\n",
    "    return year"
   ]
  },
  {
   "cell_type": "code",
   "execution_count": null,
   "id": "38f21f71",
   "metadata": {
    "scrolled": false
   },
   "outputs": [],
   "source": [
    "raw_water_level_prepared = raw_water_level.copy()\n",
    "\n",
    "# rename columns\n",
    "water_renaming_cols = {0: 'Id', 1: 'Miejscowość', 2: 'Rzeka', 3: 'Rok_hydrologiczny', 5: 'Dzień_tygodnia', \n",
    "                       6: 'Stan wody [cm]', 9: 'miesiąc'}\n",
    "raw_water_level_prepared = raw_water_level_prepared[water_renaming_cols.keys()]\n",
    "raw_water_level_prepared.rename(water_renaming_cols, axis=1, inplace=True)\n",
    "\n",
    "# Change type of col with level of water\n",
    "raw_water_level_prepared['Stan wody [cm]'] = raw_water_level_prepared['Stan wody [cm]'].astype(int)\n",
    "\n",
    "# select Ids\n",
    "raw_water_level_prepared = raw_water_level_prepared.loc[raw_water_level_prepared['Id'].isin(hierarchy['id_hydro']), :]\n",
    "\n",
    "# Add correct year\n",
    "raw_water_level_prepared['Rok'] = raw_water_level_prepared.apply(add_corect_year, axis=1)\n",
    "\n",
    "# Create variable with a date\n",
    "raw_water_level_prepared['Dzień_tygodnia'] = raw_water_level_prepared['Dzień_tygodnia'].astype(str)\n",
    "raw_water_level_prepared['Dzień_tygodnia'] = raw_water_level_prepared['Dzień_tygodnia'].apply(lambda x: x.zfill(2))\n",
    "raw_water_level_prepared['Data'] = raw_water_level_prepared['Rok'].astype(str) + '-' \\\n",
    "                                    + raw_water_level_prepared['miesiąc'].astype(str) + '-'\\\n",
    "                                    + raw_water_level_prepared['Dzień_tygodnia'].astype(str)\n",
    "raw_water_level_prepared['Data'] = pd.to_datetime(raw_water_level_prepared['Data'], format='%Y-%m-%d')\n",
    "\n",
    "# connect ID and Location\n",
    "raw_water_level_prepared['Miejscowość_Id'] = raw_water_level_prepared['Miejscowość'].astype(str) + \\\n",
    "    ' (' + raw_water_level_prepared['Id'].astype(str) + ')'\n",
    "\n",
    "# Create pivot table\n",
    "raw_water_level_prepared = raw_water_level_prepared.pivot(index='Data', columns='Miejscowość_Id', values='Stan wody [cm]')\n",
    "\n",
    "raw_water_level_prepared.columns = [f'{col} Stan wody [cm]' for col in raw_water_level_prepared.columns]\n",
    "raw_water_level_prepared.reset_index(inplace=True)\n",
    "\n",
    "raw_water_level_prepared"
   ]
  },
  {
   "cell_type": "markdown",
   "id": "ffef2cd0",
   "metadata": {},
   "source": [
    "## 3.2 opady"
   ]
  },
  {
   "cell_type": "code",
   "execution_count": null,
   "id": "aa63dcd0",
   "metadata": {},
   "outputs": [],
   "source": [
    "def weather_no_info(x):\n",
    "    if x == 8:\n",
    "        return 1\n",
    "    else:\n",
    "        return 0"
   ]
  },
  {
   "cell_type": "code",
   "execution_count": null,
   "id": "5c413ea8",
   "metadata": {},
   "outputs": [],
   "source": [
    "raw_rain_level_prepared = raw_rain_level.copy()\n",
    "\n",
    "# rename columns\n",
    "rain_renaming_cols = {0: 'Id', 1: 'Miejscowość', 2: 'Rok', 3: 'miesiąc', 4: 'Dzień_tygodnia', \n",
    "                      5: 'Suma opadów [mm]', 6: 'Brak pomiaru'}\n",
    "raw_rain_level_prepared = raw_rain_level_prepared[rain_renaming_cols.keys()]\n",
    "raw_rain_level_prepared.rename(rain_renaming_cols, axis=1, inplace=True)\n",
    "\n",
    "# select Ids\n",
    "raw_rain_level_prepared = raw_rain_level_prepared.loc[raw_rain_level_prepared['Id'].isin(hierarchy['id_meteo']), :]\n",
    "\n",
    "# set info about lack of measurments\n",
    "raw_rain_level_prepared['Brak pomiaru'] = raw_rain_level_prepared['Brak pomiaru'].apply(weather_no_info)\n",
    "\n",
    "# Create variable with a date\n",
    "raw_rain_level_prepared['Dzień_tygodnia'] = raw_rain_level_prepared['Dzień_tygodnia'].astype(str)\n",
    "raw_rain_level_prepared['Dzień_tygodnia'] = raw_rain_level_prepared['Dzień_tygodnia'].apply(lambda x: x.zfill(2))\n",
    "raw_rain_level_prepared['Data'] = raw_rain_level_prepared['Rok'].astype(str) + '-' \\\n",
    "                                    + raw_rain_level_prepared['miesiąc'].astype(str) + '-'\\\n",
    "                                    + raw_rain_level_prepared['Dzień_tygodnia'].astype(str)\n",
    "raw_rain_level_prepared['Data'] = pd.to_datetime(raw_rain_level_prepared['Data'], format='%Y-%m-%d')\n",
    "\n",
    "# connect ID and Location\n",
    "raw_rain_level_prepared['Miejscowość_Id'] = raw_rain_level_prepared['Miejscowość'].astype(str) + \\\n",
    "    ' (' + raw_rain_level_prepared['Id'].astype(str) + ')'\n",
    "\n",
    "# Create pivot table\n",
    "raw_rain_level_prepared = raw_rain_level_prepared.pivot(index='Data', columns='Miejscowość_Id', values=['Suma opadów [mm]', \n",
    "                                                                                                        'Brak pomiaru'])\n",
    "\n",
    "raw_rain_level_prepared.columns = [f'{multiindex[1]} {multiindex[0]}' for multiindex in raw_rain_level_prepared.columns]\n",
    "\n",
    "# add missing dates\n",
    "rain_dates = pd.date_range(start=raw_rain_level_prepared.index.min(), end=raw_rain_level_prepared.index.max(), freq='1D')\n",
    "raw_rain_level_prepared = raw_rain_level_prepared.reindex(rain_dates)\n",
    "\n",
    "# Fill missing values\n",
    "# rainings\n",
    "for city_id in raw_rain_level_prepared.filter(regex=(\"Suma opadów\")).columns:\n",
    "    first_date = raw_rain_level_prepared.loc[~pd.isnull(raw_rain_level_prepared[city_id]), :].index.min()\n",
    "    raw_rain_level_prepared.loc[pd.isnull(raw_rain_level_prepared[city_id])&(raw_rain_level_prepared.index>=first_date), \n",
    "                                city_id] = 0\n",
    "# without measurments\n",
    "raw_rain_level_prepared.loc[:, raw_rain_level_prepared.filter(regex=(\"Brak pomiaru\")).columns] = raw_rain_level_prepared.loc[:,\n",
    "                                                 raw_rain_level_prepared.filter(regex=(\"Brak pomiaru\")).columns].fillna(0)\n",
    "\n",
    "\n",
    "raw_rain_level_prepared.reset_index(inplace=True)\n",
    "raw_rain_level_prepared.rename({'index': 'Data'}, axis=1, inplace=True)\n",
    "raw_rain_level_prepared"
   ]
  },
  {
   "cell_type": "markdown",
   "id": "c0ce66aa",
   "metadata": {},
   "source": [
    "## 3.3 Merge"
   ]
  },
  {
   "cell_type": "code",
   "execution_count": null,
   "id": "c4d8b228",
   "metadata": {},
   "outputs": [],
   "source": [
    "prepared_dataset = pd.merge(raw_water_level_prepared, raw_rain_level_prepared, how='left', on='Data')\n",
    "\n",
    "prepared_dataset"
   ]
  },
  {
   "cell_type": "markdown",
   "id": "7e56f4ab",
   "metadata": {
    "pycharm": {
     "name": "#%% md\n"
    }
   },
   "source": [
    "# 4. Save data"
   ]
  },
  {
   "cell_type": "code",
   "execution_count": null,
   "id": "b7458a0f",
   "metadata": {
    "pycharm": {
     "name": "#%%\n"
    }
   },
   "outputs": [],
   "source": [
    "prepared_dataset.to_csv('../results/prepared_data.csv', index=False)\n",
    "hierarchy.to_csv('../results/prepared_hierarchy.csv', index=False)"
   ]
  }
 ],
 "metadata": {
  "kernelspec": {
   "display_name": "Python 3 (ipykernel)",
   "language": "python",
   "name": "python3"
  },
  "language_info": {
   "codemirror_mode": {
    "name": "ipython",
    "version": 3
   },
   "file_extension": ".py",
   "mimetype": "text/x-python",
   "name": "python",
   "nbconvert_exporter": "python",
   "pygments_lexer": "ipython3",
   "version": "3.10.8"
  }
 },
 "nbformat": 4,
 "nbformat_minor": 5
}
