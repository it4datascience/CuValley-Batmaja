{
 "cells": [
  {
   "cell_type": "markdown",
   "id": "9c860b45",
   "metadata": {
    "pycharm": {
     "name": "#%% md\n"
    }
   },
   "source": [
    "# 1. Import libraries"
   ]
  },
  {
   "cell_type": "code",
   "execution_count": null,
   "id": "8450e43a",
   "metadata": {
    "pycharm": {
     "name": "#%%\n"
    }
   },
   "outputs": [],
   "source": [
    "import pandas as pd"
   ]
  },
  {
   "cell_type": "markdown",
   "id": "54381fc2",
   "metadata": {
    "pycharm": {
     "name": "#%% md\n"
    }
   },
   "source": [
    "# 2. Load data"
   ]
  },
  {
   "cell_type": "code",
   "execution_count": null,
   "id": "cbac3f4e",
   "metadata": {
    "pycharm": {
     "name": "#%%\n"
    }
   },
   "outputs": [],
   "source": [
    "dataset = pd.read_csv('../data/prepared_data.csv')\n",
    "\n",
    "# set the column type for column with date\n",
    "dataset['Data'] = pd.to_datetime(dataset['Data'], format='%Y-%m-%d')\n",
    "\n",
    "dataset"
   ]
  },
  {
   "cell_type": "code",
   "execution_count": null,
   "id": "b6e9b3b3",
   "metadata": {},
   "outputs": [],
   "source": []
  },
  {
   "cell_type": "markdown",
   "id": "4b6cb2c0",
   "metadata": {
    "pycharm": {
     "name": "#%% md\n"
    }
   },
   "source": [
    "# 3. EDA"
   ]
  },
  {
   "cell_type": "markdown",
   "id": "92a9e83b",
   "metadata": {},
   "source": [
    "Poziom rzeki w czasie z uwzględnieniem sumy opadów dla tej stacji."
   ]
  },
  {
   "cell_type": "code",
   "execution_count": null,
   "id": "3db31a1f",
   "metadata": {},
   "outputs": [],
   "source": []
  },
  {
   "cell_type": "markdown",
   "id": "8c01f40b",
   "metadata": {},
   "source": [
    "Poziom rzeki w czasie dla różnych stacji."
   ]
  },
  {
   "cell_type": "code",
   "execution_count": null,
   "id": "ab1355a2",
   "metadata": {},
   "outputs": [],
   "source": []
  },
  {
   "cell_type": "markdown",
   "id": "d0bbf5c7",
   "metadata": {},
   "source": [
    "Jak zmienia się poziom rzeki w kolejnych latach."
   ]
  },
  {
   "cell_type": "code",
   "execution_count": null,
   "id": "3ebdca88",
   "metadata": {},
   "outputs": [],
   "source": []
  },
  {
   "cell_type": "markdown",
   "id": "1cc4e2a6",
   "metadata": {},
   "source": [
    "Sezonowość / Trend"
   ]
  },
  {
   "cell_type": "code",
   "execution_count": null,
   "id": "6c8a569a",
   "metadata": {},
   "outputs": [],
   "source": []
  },
  {
   "cell_type": "markdown",
   "id": "506ff9bd",
   "metadata": {},
   "source": [
    "Cross-correlation ~ poziomy rzeki w różnych stacjach"
   ]
  },
  {
   "cell_type": "code",
   "execution_count": null,
   "id": "6df15125",
   "metadata": {},
   "outputs": [],
   "source": []
  },
  {
   "cell_type": "markdown",
   "id": "2e20ae23",
   "metadata": {},
   "source": [
    "Cross-correlation ~ poziomy rzeki w stacji a przeszłe opady."
   ]
  },
  {
   "cell_type": "code",
   "execution_count": null,
   "id": "3f849914",
   "metadata": {
    "pycharm": {
     "name": "#%%\n"
    }
   },
   "outputs": [],
   "source": []
  },
  {
   "cell_type": "markdown",
   "id": "36336681",
   "metadata": {},
   "source": [
    "SPRAWDZIĆ DLA JAKIŚ problemów z domeny prognozowania poziomu wody w rzece."
   ]
  },
  {
   "cell_type": "code",
   "execution_count": null,
   "id": "172a251a",
   "metadata": {},
   "outputs": [],
   "source": []
  },
  {
   "cell_type": "code",
   "execution_count": null,
   "id": "2cf0d238",
   "metadata": {},
   "outputs": [],
   "source": []
  },
  {
   "cell_type": "code",
   "execution_count": null,
   "id": "ffe14ce8",
   "metadata": {
    "pycharm": {
     "name": "#%%\n"
    }
   },
   "outputs": [],
   "source": []
  }
 ],
 "metadata": {
  "kernelspec": {
   "display_name": "Python 3 (ipykernel)",
   "language": "python",
   "name": "python3"
  },
  "language_info": {
   "codemirror_mode": {
    "name": "ipython",
    "version": 3
   },
   "file_extension": ".py",
   "mimetype": "text/x-python",
   "name": "python",
   "nbconvert_exporter": "python",
   "pygments_lexer": "ipython3",
   "version": "3.10.8"
  }
 },
 "nbformat": 4,
 "nbformat_minor": 5
}
