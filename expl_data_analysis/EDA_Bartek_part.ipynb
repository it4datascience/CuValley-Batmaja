{
 "cells": [
  {
   "cell_type": "markdown",
   "id": "9c860b45",
   "metadata": {
    "pycharm": {
     "name": "#%% md\n"
    }
   },
   "source": [
    "# 1. Import libraries"
   ]
  },
  {
   "cell_type": "code",
   "execution_count": 1,
   "id": "8450e43a",
   "metadata": {
    "pycharm": {
     "name": "#%%\n"
    }
   },
   "outputs": [],
   "source": [
    "import pandas as pd"
   ]
  },
  {
   "cell_type": "markdown",
   "id": "54381fc2",
   "metadata": {
    "pycharm": {
     "name": "#%% md\n"
    }
   },
   "source": [
    "# 2. Load data"
   ]
  },
  {
   "cell_type": "code",
   "execution_count": 2,
   "id": "cbac3f4e",
   "metadata": {
    "pycharm": {
     "name": "#%%\n"
    }
   },
   "outputs": [
    {
     "data": {
      "text/html": [
       "<div>\n",
       "<style scoped>\n",
       "    .dataframe tbody tr th:only-of-type {\n",
       "        vertical-align: middle;\n",
       "    }\n",
       "\n",
       "    .dataframe tbody tr th {\n",
       "        vertical-align: top;\n",
       "    }\n",
       "\n",
       "    .dataframe thead th {\n",
       "        text-align: right;\n",
       "    }\n",
       "</style>\n",
       "<table border=\"1\" class=\"dataframe\">\n",
       "  <thead>\n",
       "    <tr style=\"text-align: right;\">\n",
       "      <th></th>\n",
       "      <th>Data</th>\n",
       "      <th>BRZEG DOLNY (151160170) Stan wody [cm]</th>\n",
       "      <th>G£OGÓW (151160060) Stan wody [cm]</th>\n",
       "      <th>OSETNO (151160140) Stan wody [cm]</th>\n",
       "      <th>TRESTNO (151170030) Stan wody [cm]</th>\n",
       "      <th>BRZEG DOLNY (251160230) Suma opadów [mm]</th>\n",
       "      <th>OSETNO (251160110) Suma opadów [mm]</th>\n",
       "      <th>£ANY (251170420) Suma opadów [mm]</th>\n",
       "      <th>BRZEG DOLNY (251160230) Brak pomiaru</th>\n",
       "      <th>OSETNO (251160110) Brak pomiaru</th>\n",
       "      <th>£ANY (251170420) Brak pomiaru</th>\n",
       "    </tr>\n",
       "  </thead>\n",
       "  <tbody>\n",
       "    <tr>\n",
       "      <th>0</th>\n",
       "      <td>2017-11-01</td>\n",
       "      <td>286</td>\n",
       "      <td>354</td>\n",
       "      <td>276</td>\n",
       "      <td>334</td>\n",
       "      <td>NaN</td>\n",
       "      <td>0.7</td>\n",
       "      <td>NaN</td>\n",
       "      <td>0.0</td>\n",
       "      <td>0.0</td>\n",
       "      <td>0.0</td>\n",
       "    </tr>\n",
       "    <tr>\n",
       "      <th>1</th>\n",
       "      <td>2017-11-02</td>\n",
       "      <td>285</td>\n",
       "      <td>358</td>\n",
       "      <td>281</td>\n",
       "      <td>337</td>\n",
       "      <td>NaN</td>\n",
       "      <td>10.0</td>\n",
       "      <td>NaN</td>\n",
       "      <td>0.0</td>\n",
       "      <td>0.0</td>\n",
       "      <td>0.0</td>\n",
       "    </tr>\n",
       "    <tr>\n",
       "      <th>2</th>\n",
       "      <td>2017-11-03</td>\n",
       "      <td>258</td>\n",
       "      <td>353</td>\n",
       "      <td>288</td>\n",
       "      <td>336</td>\n",
       "      <td>NaN</td>\n",
       "      <td>0.1</td>\n",
       "      <td>NaN</td>\n",
       "      <td>0.0</td>\n",
       "      <td>0.0</td>\n",
       "      <td>0.0</td>\n",
       "    </tr>\n",
       "    <tr>\n",
       "      <th>3</th>\n",
       "      <td>2017-11-04</td>\n",
       "      <td>218</td>\n",
       "      <td>352</td>\n",
       "      <td>296</td>\n",
       "      <td>333</td>\n",
       "      <td>NaN</td>\n",
       "      <td>0.0</td>\n",
       "      <td>NaN</td>\n",
       "      <td>0.0</td>\n",
       "      <td>0.0</td>\n",
       "      <td>0.0</td>\n",
       "    </tr>\n",
       "    <tr>\n",
       "      <th>4</th>\n",
       "      <td>2017-11-05</td>\n",
       "      <td>244</td>\n",
       "      <td>326</td>\n",
       "      <td>304</td>\n",
       "      <td>333</td>\n",
       "      <td>NaN</td>\n",
       "      <td>0.6</td>\n",
       "      <td>NaN</td>\n",
       "      <td>0.0</td>\n",
       "      <td>0.0</td>\n",
       "      <td>0.0</td>\n",
       "    </tr>\n",
       "    <tr>\n",
       "      <th>...</th>\n",
       "      <td>...</td>\n",
       "      <td>...</td>\n",
       "      <td>...</td>\n",
       "      <td>...</td>\n",
       "      <td>...</td>\n",
       "      <td>...</td>\n",
       "      <td>...</td>\n",
       "      <td>...</td>\n",
       "      <td>...</td>\n",
       "      <td>...</td>\n",
       "      <td>...</td>\n",
       "    </tr>\n",
       "    <tr>\n",
       "      <th>1456</th>\n",
       "      <td>2021-10-27</td>\n",
       "      <td>322</td>\n",
       "      <td>225</td>\n",
       "      <td>177</td>\n",
       "      <td>320</td>\n",
       "      <td>0.0</td>\n",
       "      <td>0.0</td>\n",
       "      <td>0.0</td>\n",
       "      <td>0.0</td>\n",
       "      <td>0.0</td>\n",
       "      <td>0.0</td>\n",
       "    </tr>\n",
       "    <tr>\n",
       "      <th>1457</th>\n",
       "      <td>2021-10-28</td>\n",
       "      <td>317</td>\n",
       "      <td>224</td>\n",
       "      <td>177</td>\n",
       "      <td>318</td>\n",
       "      <td>0.0</td>\n",
       "      <td>0.0</td>\n",
       "      <td>0.0</td>\n",
       "      <td>0.0</td>\n",
       "      <td>0.0</td>\n",
       "      <td>0.0</td>\n",
       "    </tr>\n",
       "    <tr>\n",
       "      <th>1458</th>\n",
       "      <td>2021-10-29</td>\n",
       "      <td>317</td>\n",
       "      <td>214</td>\n",
       "      <td>177</td>\n",
       "      <td>319</td>\n",
       "      <td>0.0</td>\n",
       "      <td>0.0</td>\n",
       "      <td>0.0</td>\n",
       "      <td>0.0</td>\n",
       "      <td>0.0</td>\n",
       "      <td>0.0</td>\n",
       "    </tr>\n",
       "    <tr>\n",
       "      <th>1459</th>\n",
       "      <td>2021-10-30</td>\n",
       "      <td>316</td>\n",
       "      <td>208</td>\n",
       "      <td>177</td>\n",
       "      <td>319</td>\n",
       "      <td>0.0</td>\n",
       "      <td>0.0</td>\n",
       "      <td>0.0</td>\n",
       "      <td>0.0</td>\n",
       "      <td>0.0</td>\n",
       "      <td>0.0</td>\n",
       "    </tr>\n",
       "    <tr>\n",
       "      <th>1460</th>\n",
       "      <td>2021-10-31</td>\n",
       "      <td>316</td>\n",
       "      <td>209</td>\n",
       "      <td>178</td>\n",
       "      <td>317</td>\n",
       "      <td>0.0</td>\n",
       "      <td>0.0</td>\n",
       "      <td>0.0</td>\n",
       "      <td>0.0</td>\n",
       "      <td>0.0</td>\n",
       "      <td>0.0</td>\n",
       "    </tr>\n",
       "  </tbody>\n",
       "</table>\n",
       "<p>1461 rows × 11 columns</p>\n",
       "</div>"
      ],
      "text/plain": [
       "           Data  BRZEG DOLNY (151160170) Stan wody [cm]  \\\n",
       "0    2017-11-01                                     286   \n",
       "1    2017-11-02                                     285   \n",
       "2    2017-11-03                                     258   \n",
       "3    2017-11-04                                     218   \n",
       "4    2017-11-05                                     244   \n",
       "...         ...                                     ...   \n",
       "1456 2021-10-27                                     322   \n",
       "1457 2021-10-28                                     317   \n",
       "1458 2021-10-29                                     317   \n",
       "1459 2021-10-30                                     316   \n",
       "1460 2021-10-31                                     316   \n",
       "\n",
       "      G£OGÓW (151160060) Stan wody [cm]  OSETNO (151160140) Stan wody [cm]  \\\n",
       "0                                   354                                276   \n",
       "1                                   358                                281   \n",
       "2                                   353                                288   \n",
       "3                                   352                                296   \n",
       "4                                   326                                304   \n",
       "...                                 ...                                ...   \n",
       "1456                                225                                177   \n",
       "1457                                224                                177   \n",
       "1458                                214                                177   \n",
       "1459                                208                                177   \n",
       "1460                                209                                178   \n",
       "\n",
       "      TRESTNO (151170030) Stan wody [cm]  \\\n",
       "0                                    334   \n",
       "1                                    337   \n",
       "2                                    336   \n",
       "3                                    333   \n",
       "4                                    333   \n",
       "...                                  ...   \n",
       "1456                                 320   \n",
       "1457                                 318   \n",
       "1458                                 319   \n",
       "1459                                 319   \n",
       "1460                                 317   \n",
       "\n",
       "      BRZEG DOLNY (251160230) Suma opadów [mm]  \\\n",
       "0                                          NaN   \n",
       "1                                          NaN   \n",
       "2                                          NaN   \n",
       "3                                          NaN   \n",
       "4                                          NaN   \n",
       "...                                        ...   \n",
       "1456                                       0.0   \n",
       "1457                                       0.0   \n",
       "1458                                       0.0   \n",
       "1459                                       0.0   \n",
       "1460                                       0.0   \n",
       "\n",
       "      OSETNO (251160110) Suma opadów [mm]  £ANY (251170420) Suma opadów [mm]  \\\n",
       "0                                     0.7                                NaN   \n",
       "1                                    10.0                                NaN   \n",
       "2                                     0.1                                NaN   \n",
       "3                                     0.0                                NaN   \n",
       "4                                     0.6                                NaN   \n",
       "...                                   ...                                ...   \n",
       "1456                                  0.0                                0.0   \n",
       "1457                                  0.0                                0.0   \n",
       "1458                                  0.0                                0.0   \n",
       "1459                                  0.0                                0.0   \n",
       "1460                                  0.0                                0.0   \n",
       "\n",
       "      BRZEG DOLNY (251160230) Brak pomiaru  OSETNO (251160110) Brak pomiaru  \\\n",
       "0                                      0.0                              0.0   \n",
       "1                                      0.0                              0.0   \n",
       "2                                      0.0                              0.0   \n",
       "3                                      0.0                              0.0   \n",
       "4                                      0.0                              0.0   \n",
       "...                                    ...                              ...   \n",
       "1456                                   0.0                              0.0   \n",
       "1457                                   0.0                              0.0   \n",
       "1458                                   0.0                              0.0   \n",
       "1459                                   0.0                              0.0   \n",
       "1460                                   0.0                              0.0   \n",
       "\n",
       "      £ANY (251170420) Brak pomiaru  \n",
       "0                               0.0  \n",
       "1                               0.0  \n",
       "2                               0.0  \n",
       "3                               0.0  \n",
       "4                               0.0  \n",
       "...                             ...  \n",
       "1456                            0.0  \n",
       "1457                            0.0  \n",
       "1458                            0.0  \n",
       "1459                            0.0  \n",
       "1460                            0.0  \n",
       "\n",
       "[1461 rows x 11 columns]"
      ]
     },
     "execution_count": 2,
     "metadata": {},
     "output_type": "execute_result"
    }
   ],
   "source": [
    "dataset = pd.read_csv('../data/prepared_data.csv')\n",
    "\n",
    "# set the column type for column with date\n",
    "dataset['Data'] = pd.to_datetime(dataset['Data'], format='%Y-%m-%d')\n",
    "\n",
    "dataset"
   ]
  },
  {
   "cell_type": "code",
   "execution_count": 3,
   "id": "b6e9b3b3",
   "metadata": {},
   "outputs": [
    {
     "data": {
      "text/plain": [
       "['BRZEG DOLNY (151160170) Stan wody [cm]',\n",
       " 'G£OGÓW (151160060) Stan wody [cm]',\n",
       " 'OSETNO (151160140) Stan wody [cm]',\n",
       " 'TRESTNO (151170030) Stan wody [cm]']"
      ]
     },
     "execution_count": 3,
     "metadata": {},
     "output_type": "execute_result"
    }
   ],
   "source": [
    "cities = dataset.filter(regex=\"Stan wody\").columns\n",
    "cities = [city_name for city_name in cities]\n",
    "cities"
   ]
  },
  {
   "cell_type": "markdown",
   "id": "4b6cb2c0",
   "metadata": {
    "pycharm": {
     "name": "#%% md\n"
    }
   },
   "source": [
    "# 3. EDA"
   ]
  },
  {
   "cell_type": "markdown",
   "id": "92a9e83b",
   "metadata": {},
   "source": [
    "Poziom rzeki w czasie z uwzględnieniem sumy opadów dla tej stacji."
   ]
  },
  {
   "cell_type": "code",
   "execution_count": null,
   "id": "3db31a1f",
   "metadata": {},
   "outputs": [],
   "source": []
  },
  {
   "cell_type": "markdown",
   "id": "8c01f40b",
   "metadata": {},
   "source": [
    "Poziom rzeki w czasie dla różnych stacji."
   ]
  },
  {
   "cell_type": "code",
   "execution_count": null,
   "id": "ab1355a2",
   "metadata": {},
   "outputs": [],
   "source": []
  },
  {
   "cell_type": "markdown",
   "id": "d0bbf5c7",
   "metadata": {},
   "source": [
    "Jak zmienia się poziom rzeki w kolejnych latach."
   ]
  },
  {
   "cell_type": "code",
   "execution_count": null,
   "id": "3ebdca88",
   "metadata": {},
   "outputs": [],
   "source": []
  },
  {
   "cell_type": "markdown",
   "id": "1cc4e2a6",
   "metadata": {},
   "source": [
    "Sezonowość / Trend"
   ]
  },
  {
   "cell_type": "code",
   "execution_count": null,
   "id": "6c8a569a",
   "metadata": {},
   "outputs": [],
   "source": []
  },
  {
   "cell_type": "markdown",
   "id": "506ff9bd",
   "metadata": {},
   "source": [
    "Cross-correlation ~ poziomy rzeki w różnych stacjach"
   ]
  },
  {
   "cell_type": "code",
   "execution_count": null,
   "id": "6df15125",
   "metadata": {},
   "outputs": [],
   "source": []
  },
  {
   "cell_type": "markdown",
   "id": "2e20ae23",
   "metadata": {},
   "source": [
    "Cross-correlation ~ poziomy rzeki w stacji a przeszłe opady."
   ]
  },
  {
   "cell_type": "code",
   "execution_count": null,
   "id": "3f849914",
   "metadata": {
    "pycharm": {
     "name": "#%%\n"
    }
   },
   "outputs": [],
   "source": []
  },
  {
   "cell_type": "markdown",
   "id": "36336681",
   "metadata": {},
   "source": [
    "SPRAWDZIĆ DLA JAKIŚ problemów z domeny prognozowania poziomu wody w rzece."
   ]
  },
  {
   "cell_type": "code",
   "execution_count": null,
   "id": "172a251a",
   "metadata": {},
   "outputs": [],
   "source": []
  },
  {
   "cell_type": "code",
   "execution_count": null,
   "id": "2cf0d238",
   "metadata": {},
   "outputs": [],
   "source": []
  },
  {
   "cell_type": "code",
   "execution_count": null,
   "id": "ffe14ce8",
   "metadata": {
    "pycharm": {
     "name": "#%%\n"
    }
   },
   "outputs": [],
   "source": []
  }
 ],
 "metadata": {
  "kernelspec": {
   "display_name": "Python 3 (ipykernel)",
   "language": "python",
   "name": "python3"
  },
  "language_info": {
   "codemirror_mode": {
    "name": "ipython",
    "version": 3
   },
   "file_extension": ".py",
   "mimetype": "text/x-python",
   "name": "python",
   "nbconvert_exporter": "python",
   "pygments_lexer": "ipython3",
   "version": "3.10.8"
  }
 },
 "nbformat": 4,
 "nbformat_minor": 5
}
