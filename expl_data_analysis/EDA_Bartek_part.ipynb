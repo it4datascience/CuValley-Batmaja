{
 "cells": [
  {
   "cell_type": "markdown",
   "id": "9c860b45",
   "metadata": {
    "pycharm": {
     "name": "#%% md\n"
    }
   },
   "source": [
    "# 1. Import libraries"
   ]
  },
  {
   "cell_type": "code",
   "execution_count": 1,
   "id": "8450e43a",
   "metadata": {
    "pycharm": {
     "name": "#%%\n"
    }
   },
   "outputs": [],
   "source": [
    "import pandas as pd"
   ]
  },
  {
   "cell_type": "markdown",
   "id": "54381fc2",
   "metadata": {
    "pycharm": {
     "name": "#%% md\n"
    }
   },
   "source": [
    "# 2. Load data"
   ]
  },
  {
   "cell_type": "code",
   "execution_count": 2,
   "id": "cbac3f4e",
   "metadata": {
    "pycharm": {
     "name": "#%%\n"
    }
   },
   "outputs": [
    {
     "data": {
      "text/html": [
       "<div>\n",
       "<style scoped>\n",
       "    .dataframe tbody tr th:only-of-type {\n",
       "        vertical-align: middle;\n",
       "    }\n",
       "\n",
       "    .dataframe tbody tr th {\n",
       "        vertical-align: top;\n",
       "    }\n",
       "\n",
       "    .dataframe thead th {\n",
       "        text-align: right;\n",
       "    }\n",
       "</style>\n",
       "<table border=\"1\" class=\"dataframe\">\n",
       "  <thead>\n",
       "    <tr style=\"text-align: right;\">\n",
       "      <th></th>\n",
       "      <th>Data</th>\n",
       "      <th>GŁOGÓW (151160060) Stan wody [cm]</th>\n",
       "      <th>RACIBÓRZ-MIEDONIA (150180060) Stan wody [cm]</th>\n",
       "      <th>BARDO ŚLĄSKIE (250160410) Suma opadów [mm]</th>\n",
       "      <th>BIERUTÓW (251170270) Suma opadów [mm]</th>\n",
       "      <th>BOLESŁAWÓW (250160610) Suma opadów [mm]</th>\n",
       "      <th>BOLKÓW (250160030) Suma opadów [mm]</th>\n",
       "      <th>BORÓW (250160070) Suma opadów [mm]</th>\n",
       "      <th>BRZEG (250170050) Suma opadów [mm]</th>\n",
       "      <th>BRZEG DOLNY (251160230) Suma opadów [mm]</th>\n",
       "      <th>CHWAŁKOWICE (251160170) Suma opadów [mm]</th>\n",
       "      <th>GŁOGÓW (151160060) Suma opadów [mm]</th>\n",
       "      <th>RACIBÓRZ-MIEDONIA (150180060) Suma opadów [mm]</th>\n",
       "    </tr>\n",
       "  </thead>\n",
       "  <tbody>\n",
       "    <tr>\n",
       "      <th>0</th>\n",
       "      <td>2011-01-01</td>\n",
       "      <td>199.0</td>\n",
       "      <td>118.0</td>\n",
       "      <td>0.2</td>\n",
       "      <td>0.5</td>\n",
       "      <td>0.5</td>\n",
       "      <td>0.7</td>\n",
       "      <td>0.2</td>\n",
       "      <td>0.05</td>\n",
       "      <td>0.8</td>\n",
       "      <td>0.8</td>\n",
       "      <td>0.2</td>\n",
       "      <td>0.5</td>\n",
       "    </tr>\n",
       "    <tr>\n",
       "      <th>1</th>\n",
       "      <td>2011-01-02</td>\n",
       "      <td>199.0</td>\n",
       "      <td>118.0</td>\n",
       "      <td>0.2</td>\n",
       "      <td>0.5</td>\n",
       "      <td>0.5</td>\n",
       "      <td>0.7</td>\n",
       "      <td>0.2</td>\n",
       "      <td>0.05</td>\n",
       "      <td>0.8</td>\n",
       "      <td>0.8</td>\n",
       "      <td>0.2</td>\n",
       "      <td>0.5</td>\n",
       "    </tr>\n",
       "    <tr>\n",
       "      <th>2</th>\n",
       "      <td>2011-01-03</td>\n",
       "      <td>199.0</td>\n",
       "      <td>118.0</td>\n",
       "      <td>0.2</td>\n",
       "      <td>0.5</td>\n",
       "      <td>0.5</td>\n",
       "      <td>0.7</td>\n",
       "      <td>0.2</td>\n",
       "      <td>0.05</td>\n",
       "      <td>0.8</td>\n",
       "      <td>0.8</td>\n",
       "      <td>0.2</td>\n",
       "      <td>0.5</td>\n",
       "    </tr>\n",
       "    <tr>\n",
       "      <th>3</th>\n",
       "      <td>2011-01-04</td>\n",
       "      <td>199.0</td>\n",
       "      <td>118.0</td>\n",
       "      <td>0.2</td>\n",
       "      <td>0.5</td>\n",
       "      <td>0.5</td>\n",
       "      <td>0.7</td>\n",
       "      <td>0.2</td>\n",
       "      <td>0.05</td>\n",
       "      <td>0.8</td>\n",
       "      <td>0.8</td>\n",
       "      <td>0.2</td>\n",
       "      <td>0.5</td>\n",
       "    </tr>\n",
       "    <tr>\n",
       "      <th>4</th>\n",
       "      <td>2011-01-05</td>\n",
       "      <td>199.0</td>\n",
       "      <td>118.0</td>\n",
       "      <td>0.2</td>\n",
       "      <td>0.5</td>\n",
       "      <td>0.5</td>\n",
       "      <td>0.7</td>\n",
       "      <td>0.2</td>\n",
       "      <td>0.05</td>\n",
       "      <td>0.8</td>\n",
       "      <td>0.8</td>\n",
       "      <td>0.2</td>\n",
       "      <td>0.5</td>\n",
       "    </tr>\n",
       "    <tr>\n",
       "      <th>...</th>\n",
       "      <td>...</td>\n",
       "      <td>...</td>\n",
       "      <td>...</td>\n",
       "      <td>...</td>\n",
       "      <td>...</td>\n",
       "      <td>...</td>\n",
       "      <td>...</td>\n",
       "      <td>...</td>\n",
       "      <td>...</td>\n",
       "      <td>...</td>\n",
       "      <td>...</td>\n",
       "      <td>...</td>\n",
       "      <td>...</td>\n",
       "    </tr>\n",
       "    <tr>\n",
       "      <th>4378</th>\n",
       "      <td>2022-12-27</td>\n",
       "      <td>203.0</td>\n",
       "      <td>114.0</td>\n",
       "      <td>3.8</td>\n",
       "      <td>6.8</td>\n",
       "      <td>2.0</td>\n",
       "      <td>4.7</td>\n",
       "      <td>4.8</td>\n",
       "      <td>1.70</td>\n",
       "      <td>5.1</td>\n",
       "      <td>5.2</td>\n",
       "      <td>3.8</td>\n",
       "      <td>2.0</td>\n",
       "    </tr>\n",
       "    <tr>\n",
       "      <th>4379</th>\n",
       "      <td>2022-12-28</td>\n",
       "      <td>203.0</td>\n",
       "      <td>114.0</td>\n",
       "      <td>3.8</td>\n",
       "      <td>6.8</td>\n",
       "      <td>2.0</td>\n",
       "      <td>4.7</td>\n",
       "      <td>4.8</td>\n",
       "      <td>1.70</td>\n",
       "      <td>5.1</td>\n",
       "      <td>5.2</td>\n",
       "      <td>3.8</td>\n",
       "      <td>2.0</td>\n",
       "    </tr>\n",
       "    <tr>\n",
       "      <th>4380</th>\n",
       "      <td>2022-12-29</td>\n",
       "      <td>203.0</td>\n",
       "      <td>114.0</td>\n",
       "      <td>3.8</td>\n",
       "      <td>6.8</td>\n",
       "      <td>2.0</td>\n",
       "      <td>4.7</td>\n",
       "      <td>4.8</td>\n",
       "      <td>1.70</td>\n",
       "      <td>5.1</td>\n",
       "      <td>5.2</td>\n",
       "      <td>3.8</td>\n",
       "      <td>2.0</td>\n",
       "    </tr>\n",
       "    <tr>\n",
       "      <th>4381</th>\n",
       "      <td>2022-12-30</td>\n",
       "      <td>203.0</td>\n",
       "      <td>114.0</td>\n",
       "      <td>3.8</td>\n",
       "      <td>6.8</td>\n",
       "      <td>2.0</td>\n",
       "      <td>4.7</td>\n",
       "      <td>4.8</td>\n",
       "      <td>1.70</td>\n",
       "      <td>5.1</td>\n",
       "      <td>5.2</td>\n",
       "      <td>3.8</td>\n",
       "      <td>2.0</td>\n",
       "    </tr>\n",
       "    <tr>\n",
       "      <th>4382</th>\n",
       "      <td>2022-12-31</td>\n",
       "      <td>203.0</td>\n",
       "      <td>114.0</td>\n",
       "      <td>3.8</td>\n",
       "      <td>6.8</td>\n",
       "      <td>2.0</td>\n",
       "      <td>4.7</td>\n",
       "      <td>4.8</td>\n",
       "      <td>1.70</td>\n",
       "      <td>5.1</td>\n",
       "      <td>5.2</td>\n",
       "      <td>3.8</td>\n",
       "      <td>2.0</td>\n",
       "    </tr>\n",
       "  </tbody>\n",
       "</table>\n",
       "<p>4383 rows × 13 columns</p>\n",
       "</div>"
      ],
      "text/plain": [
       "           Data  GŁOGÓW (151160060) Stan wody [cm]  \\\n",
       "0    2011-01-01                              199.0   \n",
       "1    2011-01-02                              199.0   \n",
       "2    2011-01-03                              199.0   \n",
       "3    2011-01-04                              199.0   \n",
       "4    2011-01-05                              199.0   \n",
       "...         ...                                ...   \n",
       "4378 2022-12-27                              203.0   \n",
       "4379 2022-12-28                              203.0   \n",
       "4380 2022-12-29                              203.0   \n",
       "4381 2022-12-30                              203.0   \n",
       "4382 2022-12-31                              203.0   \n",
       "\n",
       "      RACIBÓRZ-MIEDONIA (150180060) Stan wody [cm]  \\\n",
       "0                                            118.0   \n",
       "1                                            118.0   \n",
       "2                                            118.0   \n",
       "3                                            118.0   \n",
       "4                                            118.0   \n",
       "...                                            ...   \n",
       "4378                                         114.0   \n",
       "4379                                         114.0   \n",
       "4380                                         114.0   \n",
       "4381                                         114.0   \n",
       "4382                                         114.0   \n",
       "\n",
       "      BARDO ŚLĄSKIE (250160410) Suma opadów [mm]  \\\n",
       "0                                            0.2   \n",
       "1                                            0.2   \n",
       "2                                            0.2   \n",
       "3                                            0.2   \n",
       "4                                            0.2   \n",
       "...                                          ...   \n",
       "4378                                         3.8   \n",
       "4379                                         3.8   \n",
       "4380                                         3.8   \n",
       "4381                                         3.8   \n",
       "4382                                         3.8   \n",
       "\n",
       "      BIERUTÓW (251170270) Suma opadów [mm]  \\\n",
       "0                                       0.5   \n",
       "1                                       0.5   \n",
       "2                                       0.5   \n",
       "3                                       0.5   \n",
       "4                                       0.5   \n",
       "...                                     ...   \n",
       "4378                                    6.8   \n",
       "4379                                    6.8   \n",
       "4380                                    6.8   \n",
       "4381                                    6.8   \n",
       "4382                                    6.8   \n",
       "\n",
       "      BOLESŁAWÓW (250160610) Suma opadów [mm]  \\\n",
       "0                                         0.5   \n",
       "1                                         0.5   \n",
       "2                                         0.5   \n",
       "3                                         0.5   \n",
       "4                                         0.5   \n",
       "...                                       ...   \n",
       "4378                                      2.0   \n",
       "4379                                      2.0   \n",
       "4380                                      2.0   \n",
       "4381                                      2.0   \n",
       "4382                                      2.0   \n",
       "\n",
       "      BOLKÓW (250160030) Suma opadów [mm]  BORÓW (250160070) Suma opadów [mm]  \\\n",
       "0                                     0.7                                 0.2   \n",
       "1                                     0.7                                 0.2   \n",
       "2                                     0.7                                 0.2   \n",
       "3                                     0.7                                 0.2   \n",
       "4                                     0.7                                 0.2   \n",
       "...                                   ...                                 ...   \n",
       "4378                                  4.7                                 4.8   \n",
       "4379                                  4.7                                 4.8   \n",
       "4380                                  4.7                                 4.8   \n",
       "4381                                  4.7                                 4.8   \n",
       "4382                                  4.7                                 4.8   \n",
       "\n",
       "      BRZEG (250170050) Suma opadów [mm]  \\\n",
       "0                                   0.05   \n",
       "1                                   0.05   \n",
       "2                                   0.05   \n",
       "3                                   0.05   \n",
       "4                                   0.05   \n",
       "...                                  ...   \n",
       "4378                                1.70   \n",
       "4379                                1.70   \n",
       "4380                                1.70   \n",
       "4381                                1.70   \n",
       "4382                                1.70   \n",
       "\n",
       "      BRZEG DOLNY (251160230) Suma opadów [mm]  \\\n",
       "0                                          0.8   \n",
       "1                                          0.8   \n",
       "2                                          0.8   \n",
       "3                                          0.8   \n",
       "4                                          0.8   \n",
       "...                                        ...   \n",
       "4378                                       5.1   \n",
       "4379                                       5.1   \n",
       "4380                                       5.1   \n",
       "4381                                       5.1   \n",
       "4382                                       5.1   \n",
       "\n",
       "      CHWAŁKOWICE (251160170) Suma opadów [mm]  \\\n",
       "0                                          0.8   \n",
       "1                                          0.8   \n",
       "2                                          0.8   \n",
       "3                                          0.8   \n",
       "4                                          0.8   \n",
       "...                                        ...   \n",
       "4378                                       5.2   \n",
       "4379                                       5.2   \n",
       "4380                                       5.2   \n",
       "4381                                       5.2   \n",
       "4382                                       5.2   \n",
       "\n",
       "      GŁOGÓW (151160060) Suma opadów [mm]  \\\n",
       "0                                     0.2   \n",
       "1                                     0.2   \n",
       "2                                     0.2   \n",
       "3                                     0.2   \n",
       "4                                     0.2   \n",
       "...                                   ...   \n",
       "4378                                  3.8   \n",
       "4379                                  3.8   \n",
       "4380                                  3.8   \n",
       "4381                                  3.8   \n",
       "4382                                  3.8   \n",
       "\n",
       "      RACIBÓRZ-MIEDONIA (150180060) Suma opadów [mm]  \n",
       "0                                                0.5  \n",
       "1                                                0.5  \n",
       "2                                                0.5  \n",
       "3                                                0.5  \n",
       "4                                                0.5  \n",
       "...                                              ...  \n",
       "4378                                             2.0  \n",
       "4379                                             2.0  \n",
       "4380                                             2.0  \n",
       "4381                                             2.0  \n",
       "4382                                             2.0  \n",
       "\n",
       "[4383 rows x 13 columns]"
      ]
     },
     "execution_count": 2,
     "metadata": {},
     "output_type": "execute_result"
    }
   ],
   "source": [
    "dataset = pd.read_csv('../data/prepared_data.csv')\n",
    "\n",
    "# set the column type for column with date\n",
    "dataset['Data'] = pd.to_datetime(dataset['Data'], format='%Y-%m-%d')\n",
    "\n",
    "dataset"
   ]
  },
  {
   "cell_type": "code",
   "execution_count": 18,
   "id": "b6e9b3b3",
   "metadata": {},
   "outputs": [
    {
     "data": {
      "text/plain": [
       "['GŁOGÓW (151160060) Stan wody [cm]',\n",
       " 'RACIBÓRZ-MIEDONIA (150180060) Stan wody [cm]']"
      ]
     },
     "execution_count": 18,
     "metadata": {},
     "output_type": "execute_result"
    }
   ],
   "source": [
    "cities = dataset.filter(regex=\"Stan wody\").columns\n",
    "cities = [city_name for city_name in cities]\n",
    "cities"
   ]
  },
  {
   "cell_type": "markdown",
   "id": "4b6cb2c0",
   "metadata": {
    "pycharm": {
     "name": "#%% md\n"
    }
   },
   "source": [
    "# 3. EDA"
   ]
  },
  {
   "cell_type": "markdown",
   "id": "92a9e83b",
   "metadata": {},
   "source": [
    "Poziom rzeki w czasie z uwzględnieniem sumy opadów dla tej stacji."
   ]
  },
  {
   "cell_type": "code",
   "execution_count": null,
   "id": "3db31a1f",
   "metadata": {},
   "outputs": [],
   "source": []
  },
  {
   "cell_type": "markdown",
   "id": "8c01f40b",
   "metadata": {},
   "source": [
    "Poziom rzeki w czasie dla różnych stacji."
   ]
  },
  {
   "cell_type": "code",
   "execution_count": null,
   "id": "ab1355a2",
   "metadata": {},
   "outputs": [],
   "source": []
  },
  {
   "cell_type": "markdown",
   "id": "d0bbf5c7",
   "metadata": {},
   "source": [
    "Jak zmienia się poziom rzeki w kolejnych latach."
   ]
  },
  {
   "cell_type": "code",
   "execution_count": null,
   "id": "3ebdca88",
   "metadata": {},
   "outputs": [],
   "source": []
  },
  {
   "cell_type": "markdown",
   "id": "1cc4e2a6",
   "metadata": {},
   "source": [
    "Sezonowość / Trend"
   ]
  },
  {
   "cell_type": "code",
   "execution_count": null,
   "id": "6c8a569a",
   "metadata": {},
   "outputs": [],
   "source": []
  },
  {
   "cell_type": "markdown",
   "id": "506ff9bd",
   "metadata": {},
   "source": [
    "Cross-correlation ~ poziomy rzeki w różnych stacjach"
   ]
  },
  {
   "cell_type": "code",
   "execution_count": null,
   "id": "6df15125",
   "metadata": {},
   "outputs": [],
   "source": []
  },
  {
   "cell_type": "markdown",
   "id": "2e20ae23",
   "metadata": {},
   "source": [
    "Cross-correlation ~ poziomy rzeki w stacji a przeszłe opady."
   ]
  },
  {
   "cell_type": "code",
   "execution_count": null,
   "id": "3f849914",
   "metadata": {
    "pycharm": {
     "name": "#%%\n"
    }
   },
   "outputs": [],
   "source": []
  },
  {
   "cell_type": "markdown",
   "id": "36336681",
   "metadata": {},
   "source": [
    "SPRAWDZIĆ DLA JAKIŚ problemów z domeny prognozowania poziomu wody w rzece."
   ]
  },
  {
   "cell_type": "code",
   "execution_count": null,
   "id": "172a251a",
   "metadata": {},
   "outputs": [],
   "source": []
  },
  {
   "cell_type": "code",
   "execution_count": null,
   "id": "2cf0d238",
   "metadata": {},
   "outputs": [],
   "source": []
  },
  {
   "cell_type": "code",
   "execution_count": null,
   "id": "ffe14ce8",
   "metadata": {
    "pycharm": {
     "name": "#%%\n"
    }
   },
   "outputs": [],
   "source": []
  }
 ],
 "metadata": {
  "kernelspec": {
   "display_name": "Python 3 (ipykernel)",
   "language": "python",
   "name": "python3"
  },
  "language_info": {
   "codemirror_mode": {
    "name": "ipython",
    "version": 3
   },
   "file_extension": ".py",
   "mimetype": "text/x-python",
   "name": "python",
   "nbconvert_exporter": "python",
   "pygments_lexer": "ipython3",
   "version": "3.10.8"
  }
 },
 "nbformat": 4,
 "nbformat_minor": 5
}
